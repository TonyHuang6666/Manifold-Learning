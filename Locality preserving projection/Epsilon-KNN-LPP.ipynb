{
 "cells": [
  {
   "cell_type": "code",
   "execution_count": 1,
   "metadata": {},
   "outputs": [],
   "source": [
    "import os\n",
    "import numpy as np\n",
    "from scipy.linalg import eigh\n",
    "import matplotlib.pyplot as plt\n",
    "from scipy.sparse.linalg import eigs"
   ]
  },
  {
   "cell_type": "code",
   "execution_count": 2,
   "metadata": {},
   "outputs": [],
   "source": [
    "# 计算成对的欧式距离\n",
    "def pairwise_distances(Data):\n",
    "    return np.sqrt(np.sum((Data[:, None] - Data) ** 2, axis=2))\n",
    "\n",
    "def k_nearest_neighbors(Data, n_neighbors):\n",
    "    dist_matrix = pairwise_distances(Data)\n",
    "    return np.argsort(dist_matrix, axis=1)[:, 1:n_neighbors + 1]"
   ]
  },
  {
   "cell_type": "code",
   "execution_count": 3,
   "metadata": {},
   "outputs": [],
   "source": [
    "def compute_density_based_radius(Data, target_density):\n",
    "    n = Data.shape[0]  # 数据集的大小\n",
    "    dist_matrix = pairwise_distances(Data)  # 计算成对的欧式距离\n",
    "    density_based_radius = np.zeros(n)  # 存储每个数据点的密度基础邻域半径\n",
    "    for i in range(n):  # 计算每个数据点的密度基础邻域半径\n",
    "        # 计算每个数据点到其他点的距离并排序\n",
    "        distances = np.sort(dist_matrix[i])\n",
    "        # 计算以当前点为圆心，距离为当前距离的圆周上的点的数量\n",
    "        num_points_within_distance = np.array([np.sum(distances <= d) for d in distances])\n",
    "        # 计算密度基础邻域半径，使得圆周上的点的数量接近目标密度\n",
    "        density_based_radius[i] = distances[np.argmin(np.abs(num_points_within_distance - target_density))]\n",
    "    return density_based_radius\n",
    "\n",
    "# 以每个点k最近邻的平均距离作为每个数据点的半径\n",
    "def compute_knn_average_radius(Data, dist_matrix, knn_matrix):\n",
    "    n = Data.shape[0]\n",
    "    avg_distances = np.zeros(n)\n",
    "    for i in range(n):\n",
    "        knn_indices = knn_matrix[i] # 第i个数据点的k个最近邻的索引\n",
    "        knn_distances = [dist_matrix[i, idx] for idx in knn_indices] # 第i个数据点到k个最近邻的距离\n",
    "        avg_distances[i] = np.mean(knn_distances) # 第i个数据点的k个最近邻的平均距离\n",
    "    return avg_distances"
   ]
  },
  {
   "cell_type": "code",
   "execution_count": 4,
   "metadata": {},
   "outputs": [],
   "source": [
    "import heapq\n",
    "\n",
    "# 使用优先队列（堆）实现 Dijkstra 算法\n",
    "def dijkstra_shortest_path(graph, start):\n",
    "    n = graph.shape[0]\n",
    "    distances = np.full(n, np.inf)\n",
    "    distances[start] = 0\n",
    "    pq = [(0, start)]  # 优先队列，存储节点和对应的距离\n",
    "    while pq:\n",
    "        dist, current = heapq.heappop(pq)  # 弹出距离最小的节点\n",
    "        if dist > distances[current]:\n",
    "            continue\n",
    "        for neighbor, weight in enumerate(graph[current]):\n",
    "            if weight > 0 and dist + weight < distances[neighbor]:\n",
    "                distances[neighbor] = dist + weight\n",
    "                heapq.heappush(pq, (dist + weight, neighbor))  # 更新距离并入队\n",
    "    return distances\n",
    "\n",
    "# 以每个点到其他所有点的最短路径的平均值作为每个数据点的半径\n",
    "def compute_avg_shortest_path(Data, knn_matrix):\n",
    "    dist_matrix = pairwise_distances(Data)\n",
    "    # 基于k最近邻图构建临时邻接矩阵 adjacency_matrix\n",
    "    adjacency_matrix = np.zeros((len(Data), len(Data)))\n",
    "    for i in range(len(Data)):\n",
    "        for j in knn_matrix[i]:\n",
    "            adjacency_matrix[i][int(j)] = dist_matrix[i][int(j)]\n",
    "            adjacency_matrix[int(j)][i] = dist_matrix[int(j)][i]\n",
    "    # 使用迪杰斯特拉算法计算最短路径并得到成对的测地距离 shortest_paths\n",
    "    shortest_paths = np.zeros((len(Data), len(Data)))\n",
    "    for i in range(len(Data)):\n",
    "        shortest_paths[i] = dijkstra_shortest_path(adjacency_matrix, i)\n",
    "    # 计算每个数据点的平均最短路径\n",
    "    avg_shortest_paths = np.zeros(len(Data))\n",
    "    for i in range(len(Data)):\n",
    "        avg_shortest_paths[i] = np.mean(shortest_paths[i])\n",
    "    return avg_shortest_paths"
   ]
  },
  {
   "cell_type": "code",
   "execution_count": 6,
   "metadata": {},
   "outputs": [],
   "source": [
    "# 以每个点到其他所有点的平均值作为每个数据点的平均邻域半径\n",
    "def compute_avg_radius(Data, distances): \n",
    "    n = Data.shape[0] # 数据集的大小\n",
    "    radius = np.zeros(n) # 存储每个数据点的平均邻域半径\n",
    "    for i in range(n): # 计算每个数据点的平均邻域半径\n",
    "        avg_radius = np.mean(distances[i]) # 每个数据点到其他所有点的平均值\n",
    "        radius[i] = avg_radius # 存储每个数据点的平均邻域半径\n",
    "    return radius\n",
    "\n",
    "# 以将距离从小到大排序后的第k个距离作为每个数据点的半径\n",
    "def compute_k_maximun_radius(n, distances, k):\n",
    "    radius = np.zeros(n)\n",
    "    sorted_distances = np.sort(distances, axis=1)  # 对距离矩阵的每一行进行排序\n",
    "    for i in range(n):\n",
    "        # 选取第k个距离作为半径\n",
    "        radius[i] = sorted_distances[i, k]\n",
    "    np.savetxt('radius.csv', radius, delimiter=',')\n",
    "    return radius\n",
    "\n",
    "# 以将距离从小到大排序后前k个距离的平均值作为每个数据点的半径(效果还行)\n",
    "\"\"\"\n",
    "参数接近KNN\n",
    "\"\"\"\n",
    "def compute_knn_average_radius(distances, k):\n",
    "    sorted_distances = np.sort(distances, axis=1)  # 对距离矩阵的每一行进行排序\n",
    "    avg_knn_distances = np.mean(sorted_distances[:, 1:k+1], axis=1)  # 计算每个数据点的前k个距离的平均值作为半径\n",
    "    np.savetxt('avg_knn_distances.csv', avg_knn_distances, delimiter=',')\n",
    "    return avg_knn_distances"
   ]
  },
  {
   "cell_type": "code",
   "execution_count": 7,
   "metadata": {},
   "outputs": [],
   "source": [
    "def knn_graph(Data, method, k):\n",
    "    # 获取样本点的数量\n",
    "    n = Data.shape[0]\n",
    "    # 初始化k近邻图的邻接矩阵\n",
    "    knn_adjacency_matrix = np.zeros((n, n))  \n",
    "    # 计算欧式距离矩阵\n",
    "    distances = np.sqrt(np.sum((Data[:, None] - Data) ** 2, axis=2))\n",
    "    if method == 'epsilon':\n",
    "        return knn_adjacency_matrix, distances\n",
    "    # 获取每个样本点的最近邻索引\n",
    "    indices = np.argsort(distances, axis=1)[:, 1:k+1]\n",
    "    # 构建k近邻图的权重矩阵\n",
    "    # 遍历每个样本点的最近邻索引\n",
    "    for i in range(n):\n",
    "        knn_adjacency_matrix[i, indices[i]] = 1\n",
    "        knn_adjacency_matrix[indices[i], i] = 1\n",
    "    return knn_adjacency_matrix, distances\n",
    "\n",
    "# 计算k最近邻接矩阵或epsilon邻接矩阵\n",
    "def compute_neighborhood_matrix(Data, method, k):\n",
    "    n = len(Data)\n",
    "    knn_adjacency_matrix, distances = knn_graph(Data, method, k)\n",
    "    if method == 'knn':\n",
    "        return knn_adjacency_matrix, distances\n",
    "    elif method == 'epsilon':\n",
    "        adjacency_matrix = np.zeros((n, n))\n",
    "        radius = compute_knn_average_radius(distances, k)  # 计算每个数据点的邻域半径\n",
    "        for i in range(n):  # 对于数据集中的每个样本点 i\n",
    "            neighbors = np.where(distances[i] <= radius[i])[0]  # 获取epsilon邻域内的样本索引\n",
    "            adjacency_matrix[i, neighbors] = 1\n",
    "            adjacency_matrix[neighbors, i] = 1\n",
    "        return adjacency_matrix, distances"
   ]
  },
  {
   "cell_type": "code",
   "execution_count": 8,
   "metadata": {},
   "outputs": [],
   "source": [
    "# 将k最近邻矩阵的邻接矩阵和 epsilon 邻域矩阵相结合得到最佳邻接矩阵\n",
    "def Best_adjacency_matrix(Data, k):\n",
    "    n = len(Data)\n",
    "    best_adjacency_matrix = np.zeros((n, n))\n",
    "    # 计算k最近邻矩阵的邻接矩阵和 epsilon 邻域矩阵\n",
    "    knn_adjacency_matrix, distances = compute_neighborhood_matrix(Data, 'knn', k)\n",
    "    epsilon_adjacency_matrix, distances = compute_neighborhood_matrix(Data, 'epsilon', k)\n",
    "    # 结合两种邻接矩阵得到最佳邻接矩阵\n",
    "    best_adjacency_matrix = np.logical_and(knn_adjacency_matrix, epsilon_adjacency_matrix)\n",
    "    return best_adjacency_matrix, distances"
   ]
  },
  {
   "cell_type": "code",
   "execution_count": 9,
   "metadata": {},
   "outputs": [],
   "source": [
    "# 构建基于热核方法的权重矩阵\n",
    "def construct_weight_matrix(Data, method, k, t):\n",
    "    n = len(Data)\n",
    "    Weight_matrix = np.zeros((n, n))\n",
    "    adjacency_matrix, distances = compute_neighborhood_matrix(Data, method, k)\n",
    "    # 计算相似度矩阵\n",
    "    similarity_matrix = np.exp(-distances ** 2 / t)\n",
    "    # 将相似度矩阵按照邻接矩阵进行筛选，得到需要设置权重的位置\n",
    "    i_indices, j_indices = np.where(adjacency_matrix == 1)\n",
    "    # 设置权重\n",
    "    Weight_matrix[i_indices, j_indices] = similarity_matrix[i_indices, j_indices]\n",
    "    Weight_matrix[j_indices, i_indices] = similarity_matrix[i_indices, j_indices]  # 对称矩阵\n",
    "    # 计算全局相似度\n",
    "    '''\n",
    "    修正权重矩阵的原理是利用全局相似度来修正局部相似度得到的权重矩阵，以使得整个权重矩阵更加平滑和连续。\n",
    "    '''\n",
    "    print('adjacency_matrix:', adjacency_matrix.shape)\n",
    "    print('Weight_matrix:', Weight_matrix.shape)\n",
    "    Weight_matrix += np.exp(-distances ** 2 / t)\n",
    "    return Weight_matrix    "
   ]
  },
  {
   "cell_type": "code",
   "execution_count": 10,
   "metadata": {},
   "outputs": [],
   "source": [
    "def LPP(Data, d, k, t):\n",
    "    \"\"\"\n",
    "    进行LPP算法，得到特征映射后的数据集\n",
    "\n",
    "    Args:\n",
    "    - Data: 输入数据集的矩阵，每行代表一个样本点\n",
    "    - d: 降维后的维度\n",
    "    - k: 最近邻的数量\n",
    "    - t: 高斯核函数的参数\n",
    "\n",
    "    Returns:\n",
    "    - selected_eigenvectors: 特征映射后的数据集\n",
    "    \"\"\"\n",
    "    # Step 1: 计算权重矩阵\n",
    "    Weight_matrix = Best_adjacency_matrix(Data, k)\n",
    "    # Step 2: 计算度矩阵和拉普拉斯矩阵\n",
    "    Degree_matrix = np.diag(np.sum(Weight_matrix, axis=1))\n",
    "    Laplacian_matrix = Degree_matrix - Weight_matrix\n",
    "    # Step 3: 进行特征映射\n",
    "    eigenvalues, eigenvectors = eigs(Laplacian_matrix, k=d+1, which='SR')\n",
    "    sorted_indices = np.argsort(eigenvalues.real)\n",
    "    selected_indices = sorted_indices[1:d + 1]\n",
    "    selected_eigenvectors = eigenvectors.real[:, selected_indices]\n",
    "    return selected_eigenvectors"
   ]
  },
  {
   "cell_type": "code",
   "execution_count": 11,
   "metadata": {},
   "outputs": [
    {
     "data": {
      "text/plain": [
       "'\\n# 绘制三维数据集\\nfig = plt.figure(figsize=(14,10))\\nax = fig.add_subplot(111, projection=\"3d\")\\nax.scatter(Data[0, :], Data[1, :], Data[2, :], c=plt.cm.jet((Data[0, :]**2 + Data[2, :]**2) / 100), s=200, lw=0, alpha=1)\\nax.set_xlim(np.min(Data[0, :]), np.max(Data[0, :]))\\nax.set_ylim(np.min(Data[1, :]), np.max(Data[1, :]))\\nax.set_zlim(np.min(Data[2, :]), np.max(Data[2, :]))\\nplt.title(\\'Data - \\'+ str(Data.shape[1]) + \\' points\\', size=30)\\nax.axis(\"off\")\\n'"
      ]
     },
     "execution_count": 11,
     "metadata": {},
     "output_type": "execute_result"
    }
   ],
   "source": [
    "# 示例数据\n",
    "Data = np.load('./swiss roll-1000.npy')\n",
    "# 将 X 格式化为 (n_samples, n_features)\n",
    "Data_T = np.transpose(Data)\n",
    "'''\n",
    "# 绘制三维数据集\n",
    "fig = plt.figure(figsize=(14,10))\n",
    "ax = fig.add_subplot(111, projection=\"3d\")\n",
    "ax.scatter(Data[0, :], Data[1, :], Data[2, :], c=plt.cm.jet((Data[0, :]**2 + Data[2, :]**2) / 100), s=200, lw=0, alpha=1)\n",
    "ax.set_xlim(np.min(Data[0, :]), np.max(Data[0, :]))\n",
    "ax.set_ylim(np.min(Data[1, :]), np.max(Data[1, :]))\n",
    "ax.set_zlim(np.min(Data[2, :]), np.max(Data[2, :]))\n",
    "plt.title('Data - '+ str(Data.shape[1]) + ' points', size=30)\n",
    "ax.axis(\"off\")\n",
    "'''"
   ]
  },
  {
   "cell_type": "code",
   "execution_count": 12,
   "metadata": {},
   "outputs": [
    {
     "ename": "TypeError",
     "evalue": "compute_knn_average_radius() missing 1 required positional argument: 'knn_matrix'",
     "output_type": "error",
     "traceback": [
      "\u001b[1;31m---------------------------------------------------------------------------\u001b[0m",
      "\u001b[1;31mTypeError\u001b[0m                                 Traceback (most recent call last)",
      "Cell \u001b[1;32mIn[12], line 7\u001b[0m\n\u001b[0;32m      5\u001b[0m k \u001b[38;5;241m=\u001b[39m \u001b[38;5;241m400\u001b[39m\n\u001b[0;32m      6\u001b[0m t\u001b[38;5;241m=\u001b[39m \u001b[38;5;241m350\u001b[39m\n\u001b[1;32m----> 7\u001b[0m lpp_embeddings \u001b[38;5;241m=\u001b[39m \u001b[43mLPP\u001b[49m\u001b[43m(\u001b[49m\u001b[43mData_T\u001b[49m\u001b[43m,\u001b[49m\u001b[43m \u001b[49m\u001b[43md\u001b[49m\u001b[38;5;241;43m=\u001b[39;49m\u001b[38;5;241;43m2\u001b[39;49m\u001b[43m,\u001b[49m\u001b[43m  \u001b[49m\u001b[43mk\u001b[49m\u001b[38;5;241;43m=\u001b[39;49m\u001b[43mk\u001b[49m\u001b[43m,\u001b[49m\u001b[43m \u001b[49m\u001b[43mt\u001b[49m\u001b[38;5;241;43m=\u001b[39;49m\u001b[43mt\u001b[49m\u001b[43m)\u001b[49m\n\u001b[0;32m      8\u001b[0m plt\u001b[38;5;241m.\u001b[39mtitle(\u001b[38;5;124m'\u001b[39m\u001b[38;5;124mLPP_knn_epsilon with k = \u001b[39m\u001b[38;5;124m'\u001b[39m \u001b[38;5;241m+\u001b[39m \u001b[38;5;28mstr\u001b[39m(k) \u001b[38;5;241m+\u001b[39m \u001b[38;5;124m'\u001b[39m\u001b[38;5;124m and t = \u001b[39m\u001b[38;5;124m'\u001b[39m \u001b[38;5;241m+\u001b[39m \u001b[38;5;28mstr\u001b[39m(t), size\u001b[38;5;241m=\u001b[39m\u001b[38;5;241m25\u001b[39m)\n\u001b[0;32m      9\u001b[0m file_name \u001b[38;5;241m=\u001b[39m \u001b[38;5;124m'\u001b[39m\u001b[38;5;124mLPP_knn_epsilon\u001b[39m\u001b[38;5;124m'\u001b[39m \u001b[38;5;241m+\u001b[39m \u001b[38;5;28mstr\u001b[39m(k) \u001b[38;5;241m+\u001b[39m \u001b[38;5;124m'\u001b[39m\u001b[38;5;124m_t=\u001b[39m\u001b[38;5;124m'\u001b[39m \u001b[38;5;241m+\u001b[39m \u001b[38;5;28mstr\u001b[39m(t) \u001b[38;5;241m+\u001b[39m \u001b[38;5;124m'\u001b[39m\u001b[38;5;124m.png\u001b[39m\u001b[38;5;124m'\u001b[39m\n",
      "Cell \u001b[1;32mIn[10], line 15\u001b[0m, in \u001b[0;36mLPP\u001b[1;34m(Data, d, k, t)\u001b[0m\n\u001b[0;32m      2\u001b[0m \u001b[38;5;250m\u001b[39m\u001b[38;5;124;03m\"\"\"\u001b[39;00m\n\u001b[0;32m      3\u001b[0m \u001b[38;5;124;03m进行LPP算法，得到特征映射后的数据集\u001b[39;00m\n\u001b[0;32m      4\u001b[0m \n\u001b[1;32m   (...)\u001b[0m\n\u001b[0;32m     12\u001b[0m \u001b[38;5;124;03m- selected_eigenvectors: 特征映射后的数据集\u001b[39;00m\n\u001b[0;32m     13\u001b[0m \u001b[38;5;124;03m\"\"\"\u001b[39;00m\n\u001b[0;32m     14\u001b[0m \u001b[38;5;66;03m# Step 1: 计算权重矩阵\u001b[39;00m\n\u001b[1;32m---> 15\u001b[0m Weight_matrix \u001b[38;5;241m=\u001b[39m \u001b[43mBest_adjacency_matrix\u001b[49m\u001b[43m(\u001b[49m\u001b[43mData\u001b[49m\u001b[43m,\u001b[49m\u001b[43m \u001b[49m\u001b[43mk\u001b[49m\u001b[43m)\u001b[49m\n\u001b[0;32m     16\u001b[0m \u001b[38;5;66;03m# Step 2: 计算度矩阵和拉普拉斯矩阵\u001b[39;00m\n\u001b[0;32m     17\u001b[0m Degree_matrix \u001b[38;5;241m=\u001b[39m np\u001b[38;5;241m.\u001b[39mdiag(np\u001b[38;5;241m.\u001b[39msum(Weight_matrix, axis\u001b[38;5;241m=\u001b[39m\u001b[38;5;241m1\u001b[39m))\n",
      "Cell \u001b[1;32mIn[8], line 7\u001b[0m, in \u001b[0;36mBest_adjacency_matrix\u001b[1;34m(Data, k)\u001b[0m\n\u001b[0;32m      5\u001b[0m \u001b[38;5;66;03m# 计算k最近邻矩阵的邻接矩阵和 epsilon 邻域矩阵\u001b[39;00m\n\u001b[0;32m      6\u001b[0m knn_adjacency_matrix, distances \u001b[38;5;241m=\u001b[39m compute_neighborhood_matrix(Data, \u001b[38;5;124m'\u001b[39m\u001b[38;5;124mknn\u001b[39m\u001b[38;5;124m'\u001b[39m, k)\n\u001b[1;32m----> 7\u001b[0m epsilon_adjacency_matrix, distances \u001b[38;5;241m=\u001b[39m \u001b[43mcompute_neighborhood_matrix\u001b[49m\u001b[43m(\u001b[49m\u001b[43mData\u001b[49m\u001b[43m,\u001b[49m\u001b[43m \u001b[49m\u001b[38;5;124;43m'\u001b[39;49m\u001b[38;5;124;43mepsilon\u001b[39;49m\u001b[38;5;124;43m'\u001b[39;49m\u001b[43m,\u001b[49m\u001b[43m \u001b[49m\u001b[43mk\u001b[49m\u001b[43m)\u001b[49m\n\u001b[0;32m      8\u001b[0m \u001b[38;5;66;03m# 结合两种邻接矩阵得到最佳邻接矩阵\u001b[39;00m\n\u001b[0;32m      9\u001b[0m best_adjacency_matrix \u001b[38;5;241m=\u001b[39m np\u001b[38;5;241m.\u001b[39mlogical_and(knn_adjacency_matrix, epsilon_adjacency_matrix)\n",
      "Cell \u001b[1;32mIn[7], line 27\u001b[0m, in \u001b[0;36mcompute_neighborhood_matrix\u001b[1;34m(Data, method, k)\u001b[0m\n\u001b[0;32m     25\u001b[0m \u001b[38;5;28;01melif\u001b[39;00m method \u001b[38;5;241m==\u001b[39m \u001b[38;5;124m'\u001b[39m\u001b[38;5;124mepsilon\u001b[39m\u001b[38;5;124m'\u001b[39m:\n\u001b[0;32m     26\u001b[0m     adjacency_matrix \u001b[38;5;241m=\u001b[39m np\u001b[38;5;241m.\u001b[39mzeros((n, n))\n\u001b[1;32m---> 27\u001b[0m     radius \u001b[38;5;241m=\u001b[39m \u001b[43mcompute_knn_average_radius\u001b[49m\u001b[43m(\u001b[49m\u001b[43mdistances\u001b[49m\u001b[43m,\u001b[49m\u001b[43m \u001b[49m\u001b[43mk\u001b[49m\u001b[43m)\u001b[49m  \u001b[38;5;66;03m# 计算每个数据点的邻域半径\u001b[39;00m\n\u001b[0;32m     28\u001b[0m     \u001b[38;5;28;01mfor\u001b[39;00m i \u001b[38;5;129;01min\u001b[39;00m \u001b[38;5;28mrange\u001b[39m(n):  \u001b[38;5;66;03m# 对于数据集中的每个样本点 i\u001b[39;00m\n\u001b[0;32m     29\u001b[0m         neighbors \u001b[38;5;241m=\u001b[39m np\u001b[38;5;241m.\u001b[39mwhere(distances[i] \u001b[38;5;241m<\u001b[39m\u001b[38;5;241m=\u001b[39m radius[i])[\u001b[38;5;241m0\u001b[39m]  \u001b[38;5;66;03m# 获取epsilon邻域内的样本索引\u001b[39;00m\n",
      "\u001b[1;31mTypeError\u001b[0m: compute_knn_average_radius() missing 1 required positional argument: 'knn_matrix'"
     ]
    },
    {
     "data": {
      "text/plain": [
       "<Figure size 1400x1000 with 0 Axes>"
      ]
     },
     "metadata": {},
     "output_type": "display_data"
    }
   ],
   "source": [
    "# 绘制及保存投影图\n",
    "if not os.path.exists('output'):\n",
    "    os.makedirs('output')\n",
    "plt.figure(figsize=(14, 10))\n",
    "k = 400\n",
    "t= 350\n",
    "lpp_embeddings = LPP(Data_T, d=2,  k=k, t=t)\n",
    "plt.title('LPP_knn_epsilon with k = ' + str(k) + ' and t = ' + str(t), size=25)\n",
    "file_name = 'LPP_knn_epsilon' + str(k) + '_t=' + str(t) + '.png'\n",
    "file_path = os.path.join('.', 'output', file_name)\n",
    "plt.scatter(lpp_embeddings[:, 0], lpp_embeddings[:, 1], c=plt.cm.jet((Data_T[:, 0] ** 2 + Data_T[:, 2] ** 2) / 100),s=200, lw=0, alpha=1)\n",
    "plt.savefig(file_path)\n",
    "plt.show()"
   ]
  },
  {
   "cell_type": "code",
   "execution_count": null,
   "metadata": {},
   "outputs": [
    {
     "data": {
      "text/plain": [
       "'\\nEmbeddings = LPP_Isomap(Data_T, n_components = 2, n_neighbors = 10)\\n# 绘制 Isomap 投影图\\nplt.figure(figsize=(14,10))\\nplt.scatter(Embeddings[:, 0], Embeddings[:, 1], c=plt.cm.jet((Data_T[:,0]**2+Data_T[:,2]**2)/100), s=200, lw=0, alpha=1)\\nplt.title(\\'Isomap with k-Nearest Neighbors = \\' + str(n_neighbors), size=30)\\nplt.axis(\"off\")\\nplt.show()\\n'"
      ]
     },
     "execution_count": 91,
     "metadata": {},
     "output_type": "execute_result"
    }
   ],
   "source": [
    "# MDS 算法实现\n",
    "def MDS(distances, n_components):\n",
    "    n = distances.shape[0]  # 获取数据集的大小\n",
    "    J = np.eye(n) - np.ones((n, n)) / n  # 计算中心化矩阵 J\n",
    "    B = -0.5 * J.dot(distances ** 2).dot(J)  # 计算矩阵 B\n",
    "    eigenvalues, eigenvectors = np.linalg.eigh(B)  # 计算特征值和特征向量\n",
    "\n",
    "    # 对特征值和特征向量进行排序\n",
    "    indices = np.argsort(eigenvalues)[::-1]  # 获取特征值降序排列的索引\n",
    "    eigenvalues = eigenvalues[indices]  # 根据索引重新排序特征值\n",
    "    eigenvectors = eigenvectors[:, indices]  # 根据索引重新排序特征向量\n",
    "\n",
    "    # 选择前 n_components 个特征值和对应的特征向量\n",
    "    eigenvalues = eigenvalues[:n_components]  # 选择前 n_components 个特征值\n",
    "    eigenvectors = eigenvectors[:, :n_components]  # 选择对应的特征向量\n",
    "\n",
    "    # 计算降维后的结果\n",
    "    embeddings = eigenvectors.dot(np.diag(np.sqrt(eigenvalues)))  # 计算降维后的嵌入结果\n",
    "    return embeddings  # 返回嵌入结果\n",
    "\n",
    "def LPP_Isomap(Data, n_components, n_neighbors):\n",
    "    # 使用迪杰斯特拉算法计算最短路径并得到成对的测地距离 shortest_paths\n",
    "    shortest_paths = np.zeros((len(Data), len(Data)))\n",
    "    for i in range(len(Data)):\n",
    "        shortest_paths[i] = dijkstra_shortest_path(Best_adjacency_matrix(Data, n_neighbors), i)\n",
    "    embeddings = MDS(shortest_paths, n_components)\n",
    "    return embeddings\n",
    "'''\n",
    "Embeddings = LPP_Isomap(Data_T, n_components = 2, n_neighbors = 10)\n",
    "# 绘制 Isomap 投影图\n",
    "plt.figure(figsize=(14,10))\n",
    "plt.scatter(Embeddings[:, 0], Embeddings[:, 1], c=plt.cm.jet((Data_T[:,0]**2+Data_T[:,2]**2)/100), s=200, lw=0, alpha=1)\n",
    "plt.title('Isomap with k-Nearest Neighbors = ' + str(n_neighbors), size=30)\n",
    "plt.axis(\"off\")\n",
    "plt.show()\n",
    "'''"
   ]
  }
 ],
 "metadata": {
  "kernelspec": {
   "display_name": "Python 3",
   "language": "python",
   "name": "python3"
  },
  "language_info": {
   "codemirror_mode": {
    "name": "ipython",
    "version": 3
   },
   "file_extension": ".py",
   "mimetype": "text/x-python",
   "name": "python",
   "nbconvert_exporter": "python",
   "pygments_lexer": "ipython3",
   "version": "3.11.8"
  }
 },
 "nbformat": 4,
 "nbformat_minor": 2
}
