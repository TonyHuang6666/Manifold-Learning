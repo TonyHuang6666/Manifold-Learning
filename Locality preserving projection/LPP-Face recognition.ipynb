{
 "cells": [
  {
   "cell_type": "code",
<<<<<<< HEAD
   "execution_count": 70,
=======
   "execution_count": 11,
>>>>>>> df8d84953b332706745d1589d8f670dc6a61433b
   "metadata": {},
   "outputs": [],
   "source": [
    "import os\n",
    "import cv2\n",
    "import numpy as np\n",
    "import matplotlib.pyplot as plt\n",
    "from scipy.sparse.linalg import eigs\n",
    "from scipy.interpolate import interp1d"
   ]
  },
  {
   "cell_type": "code",
<<<<<<< HEAD
   "execution_count": 71,
=======
   "execution_count": 12,
>>>>>>> df8d84953b332706745d1589d8f670dc6a61433b
   "metadata": {},
   "outputs": [],
   "source": [
    "# 读取数据集\n",
    "def read_images(dataset_dir, target_size=(32, 32)):\n",
    "    data = []  # 存储图像数据的列表\n",
    "    labels = []  # 存储标签的列表\n",
    "    faceshape = [] # 存储图像形状\n",
    "    for class_dir in os.listdir(dataset_dir):  # 遍历数据集文件夹中的文件夹（每个文件夹代表一个类别）\n",
    "        class_path = os.path.join(dataset_dir, class_dir)  # 类别文件夹路径\n",
    "        for file_name in os.listdir(class_path):  # 遍历每个类别文件夹中的图像文件\n",
    "            file_path = os.path.join(class_path, file_name)  # 图像文件路径\n",
    "            img = cv2.imread(file_path, cv2.IMREAD_GRAYSCALE)  # 读取灰度图像\n",
    "            # 缩放图像至目标尺寸\n",
    "            img = cv2.resize(img, target_size, interpolation=cv2.INTER_AREA)\n",
    "            # 读取第一张灰度图像的大小作为图片形状\n",
    "            faceshape = img.shape\n",
    "            data.append(img.flatten())  # 将图像展平并添加到数据列表中\n",
    "            labels.append(int(class_dir))  # 将类别标签添加到标签列表中\n",
    "    return np.array(data), np.array(labels).reshape(-1, 1), faceshape  # 返回图像数据和标签\n",
    "\n",
    "# 训练集和测试集划分\n",
    "def train_test_split(data, labels, train_test_split_ratio):\n",
    "    num_samples = data.shape[0]  # 总样本数\n",
    "    train_samples = int(num_samples * train_test_split_ratio)  # 训练集样本数\n",
    "    \n",
    "    # 洗牌算法打乱数据集\n",
    "    indices = np.arange(num_samples)\n",
    "    np.random.shuffle(indices)\n",
    "    data = data[indices]\n",
    "    labels = labels[indices]\n",
    "    \n",
    "    # 划分训练集和测试集\n",
    "    train_data = data[:train_samples]\n",
    "    train_labels = labels[:train_samples]\n",
    "    test_data = data[train_samples:]\n",
    "    test_labels = labels[train_samples:]\n",
    "    \n",
    "    return train_data, train_labels, test_data, test_labels\n",
    "\n",
    "def test_image(i, train_labels, test_labels, test_data, lpp_eigenfaces, lpp_weight_matrix):\n",
    "    # 计算测试图像的权重向量\n",
    "    query = test_data[i]\n",
    "    query_weight = (lpp_eigenfaces.T @ query.reshape(-1, 1))\n",
    "    # 计算测试图像与数据集中每个人脸的欧氏距离\n",
    "    euclidean_distances = np.linalg.norm(lpp_weight_matrix - query_weight, axis=0)\n",
    "    # 找到最佳匹配的人脸\n",
    "    best_match_index = np.argmin(euclidean_distances)\n",
    "    #判断是否匹配正确\n",
    "    flag = False\n",
    "    if train_labels[best_match_index] == test_labels[i]:\n",
    "        flag = True\n",
    "    else:\n",
    "        flag = False\n",
    "    return flag\n",
    "\n",
    "def ShowEigenface(eigenfaces, faceshape):\n",
    "    # 显示前16个特征脸\n",
    "    fig, axes = plt.subplots(4, 4, sharex=True, sharey=True, figsize=(8, 10))\n",
    "    for i in range(16):\n",
    "        axes[i%4][i//4].imshow(eigenfaces[:, i].reshape(faceshape), cmap=\"gray\")\n",
    "    #print(\"显示特征脸\")\n",
    "    plt.show()"
   ]
  },
  {
   "cell_type": "code",
<<<<<<< HEAD
   "execution_count": 72,
=======
   "execution_count": 13,
>>>>>>> df8d84953b332706745d1589d8f670dc6a61433b
   "metadata": {},
   "outputs": [],
   "source": [
    "def PCA(X, n_components):\n",
    "    # 计算数据矩阵的均值\n",
    "    mean = np.mean(X, axis=0)\n",
    "    # 中心化数据矩阵\n",
    "    X_centered = X - mean\n",
    "    # 计算数据矩阵的协方差矩阵\n",
    "    covariance_matrix = np.cov(X_centered, rowvar=False)\n",
    "    # 计算协方差矩阵的特征值和特征向量\n",
    "    eigenvalues, eigenvectors = np.linalg.eigh(covariance_matrix)\n",
    "    # 对特征向量按特征值从大到小排序\n",
    "    sorted_indices = np.argsort(eigenvalues)[::-1]\n",
    "    sorted_eigenvectors = eigenvectors[:, sorted_indices]\n",
    "    # 选取前n_components个特征向量\n",
    "    principal_components = sorted_eigenvectors[:, :n_components]\n",
    "    # 返回投影矩阵和均值向量\n",
    "    return principal_components"
   ]
  },
  {
   "cell_type": "code",
<<<<<<< HEAD
   "execution_count": 73,
=======
   "execution_count": 14,
>>>>>>> df8d84953b332706745d1589d8f670dc6a61433b
   "metadata": {},
   "outputs": [],
   "source": [
    "def compute_adaptive_neighbors(Data):\n",
    "    n = Data.shape[1]  # 样本点的数量\n",
    "    distances = np.sqrt(np.sum((Data.T[:, :, None] - Data.T[:, :, None].T) ** 2, axis=1)) \n",
    "    sorted_distances = np.sort(distances, axis=1)  # 对距离矩阵的每一行进行排序\n",
    "    np.savetxt(\"sorted_distances.csv\", sorted_distances, delimiter=\",\")\n",
    "    adaptive_neighbors = np.zeros((n, 1))\n",
    "    # 对每行距离进行插值和求导\n",
    "    for i in range(n):\n",
    "        # 对距离进行插值，生成连续的函数\n",
    "        f = interp1d(np.arange(n), sorted_distances[i], kind='linear')\n",
    "        #coefficients = np.polyfit(np.arange(n), sorted_distances[i], deg=5)  # 使用6次多项式拟合\n",
    "        #f = np.poly1d(coefficients)  # 构建多项式函数\n",
    "        # 求导\n",
    "        df = np.gradient(f(np.arange(n)))  # 计算函数的导数\n",
    "        # 寻找导数为1的位置\n",
    "        idx = np.where(df <= 1)[0][0]\n",
    "        # 将索引保存为每个数据点的邻居数量\n",
    "        adaptive_neighbors[i] = idx\n",
    "    np.savetxt(\"adaptive_neighbors.csv\", adaptive_neighbors, delimiter=\",\")\n",
    "    return adaptive_neighbors, sorted_distances, distances\n",
    "\n",
    "# 根据adaptive_neighbors中每一行的邻居数量和sorted_distances对每个数据点构建epsilon graph\n",
    "def adaptive_epsilon_graph(Data):\n",
    "    adaptive_neighbors, sorted_distances, distances = compute_adaptive_neighbors(Data)\n",
    "    n = Data.shape[1]  \n",
    "    adaptive_epsilon_adjacency_matrix = np.zeros((n, n))  \n",
    "    for i in range(n):\n",
    "        indices = np.argsort(sorted_distances[i])[:int(adaptive_neighbors[i])]\n",
    "        adaptive_epsilon_adjacency_matrix[i, indices] = 1\n",
    "        adaptive_epsilon_adjacency_matrix[indices, i] = 1\n",
    "    return adaptive_epsilon_adjacency_matrix, distances\n",
    "\n",
    "def knn_graph(Data, k):\n",
    "    n = Data.shape[1]  \n",
    "    knn_adjacency_matrix = np.zeros((n, n))  \n",
    "    distances = np.sqrt(np.sum((Data.T[:, :, None] - Data.T[:, :, None].T) ** 2, axis=1))\n",
    "    indices = np.argsort(distances, axis=1)[:, 1:k+1]\n",
    "    for i in range(n):\n",
    "        knn_adjacency_matrix[i, indices[i]] = 1\n",
    "        knn_adjacency_matrix[indices[i], i] = 1\n",
    "    return knn_adjacency_matrix, distances\n",
    "\n",
    "def compute_neighborhood_matrix(Data, method, k):\n",
    "    if method == 'knn':\n",
    "        knn_adjacency_matrix, distances = knn_graph(Data, k)\n",
    "        return knn_adjacency_matrix, distances\n",
    "    elif method == 'adaptive_epsilon':\n",
    "        adaptive_epsilon_adjacency_matrix, distances = adaptive_epsilon_graph(Data)\n",
    "        return adaptive_epsilon_adjacency_matrix, distances\n",
    "\n",
    "def construct_weight_matrix(Data, method, k, t):\n",
    "    n = Data.shape[1]\n",
    "    Weight_matrix = np.zeros((n, n))\n",
    "    adjacency_matrix, distances = compute_neighborhood_matrix(Data, method, k)\n",
    "    similarity_matrix = np.exp(-distances ** 2 / t)\n",
    "    i_indices, j_indices = np.where(adjacency_matrix == 1)\n",
    "    Weight_matrix[i_indices, j_indices] = similarity_matrix[i_indices, j_indices]\n",
    "    Weight_matrix[j_indices, i_indices] = similarity_matrix[i_indices, j_indices]\n",
    "    Weight_matrix += np.exp(-distances ** 2 / t)\n",
    "    return Weight_matrix\n",
    "\n",
    "def LPP(Data, d, method, k, t):\n",
    "    Weight_matrix = construct_weight_matrix(Data, method, k, t)\n",
    "    Degree_matrix = np.diag(np.sum(Weight_matrix, axis=1))\n",
    "    Laplacian_matrix = Degree_matrix - Weight_matrix\n",
    "    print(\"Laplacian_matrix.shape\", Laplacian_matrix.shape)\n",
    "    objective_value = np.dot(np.dot(Data, Laplacian_matrix), Data.T)  # 计算目标函数\n",
    "    print(\"objective_value.shape\", objective_value.shape)\n",
    "    eigenvalues, eigenvectors = eigs(objective_value, k=d+1)\n",
    "    sorted_indices = np.argsort(eigenvalues.real)\n",
    "    selected_indices = sorted_indices[1:d + 1]\n",
    "    selected_eigenvectors = eigenvectors.real[:, selected_indices]\n",
    "    return selected_eigenvectors\n"
   ]
  },
  {
   "cell_type": "code",
<<<<<<< HEAD
   "execution_count": 74,
=======
   "execution_count": 15,
>>>>>>> df8d84953b332706745d1589d8f670dc6a61433b
   "metadata": {},
   "outputs": [
    {
     "data": {
      "text/plain": [
       "'\\nimport os\\nimport numpy as np\\nimport struct\\n\\ndef read_mnist_images(images_file):\\n    with open(images_file, \\'rb\\') as f:\\n        magic, num_images, rows, cols = struct.unpack(\\'>IIII\\', f.read(16))\\n        images = np.fromfile(f, dtype=np.uint8).reshape(num_images, rows * cols)\\n    return images\\n\\ndef read_mnist_labels(labels_file):\\n    with open(labels_file, \\'rb\\') as f:\\n        magic, num_labels = struct.unpack(\\'>II\\', f.read(8))\\n        labels = np.fromfile(f, dtype=np.uint8)\\n    return labels\\n\\ndef read_mnist_dataset(dataset_dir):\\n    train_images_file = os.path.join(dataset_dir, \\'train-images.idx3-ubyte\\')\\n    train_labels_file = os.path.join(dataset_dir, \\'train-labels.idx1-ubyte\\')\\n    test_images_file = os.path.join(dataset_dir, \\'t10k-images.idx3-ubyte\\')\\n    test_labels_file = os.path.join(dataset_dir, \\'t10k-labels.idx1-ubyte\\')\\n\\n    train_images = read_mnist_images(train_images_file)\\n    train_labels = read_mnist_labels(train_labels_file).reshape(-1, 1)\\n    test_images = read_mnist_images(test_images_file)\\n    test_labels = read_mnist_labels(test_labels_file).reshape(-1, 1)\\n\\n    return train_images, train_labels, test_images, test_labels\\n\\n# 使用示例\\ntrain_images, train_labels, test_images, test_labels = read_mnist_dataset(\"MNIST_ORG\")\\nprint(\"train_images.shape:\", train_images.shape)\\nprint(\"train_labels.shape:\", train_labels.shape)\\nprint(\"test_images.shape:\", test_images.shape)\\nprint(\"test_labels.shape:\", test_labels.shape)\\n'"
      ]
     },
<<<<<<< HEAD
     "execution_count": 74,
=======
     "execution_count": 15,
>>>>>>> df8d84953b332706745d1589d8f670dc6a61433b
     "metadata": {},
     "output_type": "execute_result"
    }
   ],
   "source": [
    "\"\"\"\n",
    "import os\n",
    "import numpy as np\n",
    "import struct\n",
    "\n",
    "def read_mnist_images(images_file):\n",
    "    with open(images_file, 'rb') as f:\n",
    "        magic, num_images, rows, cols = struct.unpack('>IIII', f.read(16))\n",
    "        images = np.fromfile(f, dtype=np.uint8).reshape(num_images, rows * cols)\n",
    "    return images\n",
    "\n",
    "def read_mnist_labels(labels_file):\n",
    "    with open(labels_file, 'rb') as f:\n",
    "        magic, num_labels = struct.unpack('>II', f.read(8))\n",
    "        labels = np.fromfile(f, dtype=np.uint8)\n",
    "    return labels\n",
    "\n",
    "def read_mnist_dataset(dataset_dir):\n",
    "    train_images_file = os.path.join(dataset_dir, 'train-images.idx3-ubyte')\n",
    "    train_labels_file = os.path.join(dataset_dir, 'train-labels.idx1-ubyte')\n",
    "    test_images_file = os.path.join(dataset_dir, 't10k-images.idx3-ubyte')\n",
    "    test_labels_file = os.path.join(dataset_dir, 't10k-labels.idx1-ubyte')\n",
    "\n",
    "    train_images = read_mnist_images(train_images_file)\n",
    "    train_labels = read_mnist_labels(train_labels_file).reshape(-1, 1)\n",
    "    test_images = read_mnist_images(test_images_file)\n",
    "    test_labels = read_mnist_labels(test_labels_file).reshape(-1, 1)\n",
    "\n",
    "    return train_images, train_labels, test_images, test_labels\n",
    "\n",
    "# 使用示例\n",
    "train_images, train_labels, test_images, test_labels = read_mnist_dataset(\"MNIST_ORG\")\n",
    "print(\"train_images.shape:\", train_images.shape)\n",
    "print(\"train_labels.shape:\", train_labels.shape)\n",
    "print(\"test_images.shape:\", test_images.shape)\n",
    "print(\"test_labels.shape:\", test_labels.shape)\n",
    "\"\"\"\n"
   ]
  },
  {
   "cell_type": "code",
<<<<<<< HEAD
   "execution_count": 75,
=======
   "execution_count": 16,
>>>>>>> df8d84953b332706745d1589d8f670dc6a61433b
   "metadata": {},
   "outputs": [
    {
     "data": {
      "text/plain": [
       "'\\n# 使用示例\\ntrain_images, train_labels, test_images, test_labels = read_mnist_dataset(\"MNIST_ORG\", fraction=0.2)\\nprint(\"train_images.shape:\", train_images.shape)\\nprint(\"train_labels.shape:\", train_labels.shape)\\nprint(\"test_images.shape:\", test_images.shape)\\nprint(\"test_labels.shape:\", test_labels.shape)\\n'"
      ]
     },
<<<<<<< HEAD
     "execution_count": 75,
=======
     "execution_count": 16,
>>>>>>> df8d84953b332706745d1589d8f670dc6a61433b
     "metadata": {},
     "output_type": "execute_result"
    }
   ],
   "source": [
    "import os\n",
    "import numpy as np\n",
    "import struct\n",
    "\n",
    "def read_mnist_dataset(dataset_dir, fraction=0.2):\n",
    "    def read_images(images_file, num_images, rows, cols):\n",
    "        with open(images_file, 'rb') as f:\n",
    "            magic, total_images = struct.unpack('>II', f.read(8))\n",
    "            images = np.fromfile(f, dtype=np.uint8, count=num_images * rows * cols)\n",
    "            images = images.reshape(num_images, rows * cols)\n",
    "        return images\n",
    "\n",
    "    def read_labels(labels_file, num_labels):\n",
    "        with open(labels_file, 'rb') as f:\n",
    "            magic, total_labels = struct.unpack('>II', f.read(8))\n",
    "            labels = np.fromfile(f, dtype=np.uint8, count=num_labels)\n",
    "        return labels\n",
    "\n",
    "    train_images_file = os.path.join(dataset_dir, 'train-images.idx3-ubyte')\n",
    "    train_labels_file = os.path.join(dataset_dir, 'train-labels.idx1-ubyte')\n",
    "    test_images_file = os.path.join(dataset_dir, 't10k-images.idx3-ubyte')\n",
    "    test_labels_file = os.path.join(dataset_dir, 't10k-labels.idx1-ubyte')\n",
    "\n",
    "    # 获取数据集的原始数量和图像大小\n",
    "    with open(train_images_file, 'rb') as f:\n",
    "        magic, total_train_images, rows, cols = struct.unpack('>IIII', f.read(16))\n",
    "    with open(test_images_file, 'rb') as f:\n",
    "        magic, total_test_images, rows, cols = struct.unpack('>IIII', f.read(16))\n",
    "\n",
    "    # 计算要读取的数量\n",
    "    num_train_images = int(total_train_images * fraction)\n",
    "    num_test_images = int(total_test_images * fraction)\n",
    "\n",
    "    # 读取数据集\n",
    "    train_images = read_images(train_images_file, num_train_images, rows, cols)\n",
    "    train_labels = read_labels(train_labels_file, num_train_images).reshape(-1, 1)\n",
    "    test_images = read_images(test_images_file, num_test_images, rows, cols)\n",
    "    test_labels = read_labels(test_labels_file, num_test_images).reshape(-1, 1)\n",
    "\n",
    "    return train_images, train_labels, test_images, test_labels, (rows, cols)\n",
    "\n",
    "\"\"\"\n",
    "# 使用示例\n",
    "train_images, train_labels, test_images, test_labels = read_mnist_dataset(\"MNIST_ORG\", fraction=0.2)\n",
    "print(\"train_images.shape:\", train_images.shape)\n",
    "print(\"train_labels.shape:\", train_labels.shape)\n",
    "print(\"test_images.shape:\", test_images.shape)\n",
    "print(\"test_labels.shape:\", test_labels.shape)\n",
    "\"\"\"\n"
   ]
  },
  {
   "cell_type": "code",
<<<<<<< HEAD
   "execution_count": 76,
=======
   "execution_count": 17,
>>>>>>> df8d84953b332706745d1589d8f670dc6a61433b
   "metadata": {},
   "outputs": [],
   "source": [
    "import os\n",
    "from os import path\n",
    "import numpy as np\n",
    "import cv2\n",
    "\n",
    "def read_mini_minst_images(dataset_dir, target_size=None):\n",
    "    train_data = []  # 存储训练图像数据的列表\n",
    "    train_labels = []  # 存储训练标签的列表\n",
    "    test_data = []  # 存储测试图像数据的列表\n",
    "    test_labels = []  # 存储测试标签的列表\n",
    "    faceshape = []  # 存储图像形状\n",
    "\n",
    "    # 读取训练集\n",
    "    for class_dir in range(10):  # 遍历10个类别文件夹\n",
    "        class_path = path.join(dataset_dir, 'Reduced Training data', str(class_dir))  # 类别文件夹路径\n",
    "        for file_name in os.listdir(class_path):  # 遍历每个类别文件夹中的图像文件\n",
    "            file_path = path.join(class_path, file_name)  # 图像文件路径\n",
    "            img = cv2.imread(file_path, cv2.IMREAD_GRAYSCALE)  # 读取灰度图像\n",
    "            # 如果指定了目标尺寸，则缩放图像\n",
    "            if target_size is not None:\n",
    "                img = cv2.resize(img, target_size, interpolation=cv2.INTER_AREA)\n",
    "            # 读取第一张灰度图像的大小作为图片形状\n",
    "            if not faceshape:\n",
    "                faceshape = img.shape\n",
    "            train_data.append(img.flatten())  # 将图像展平并添加到训练数据列表中\n",
    "            train_labels.append(int(class_dir))  # 将类别标签添加到训练标签列表中\n",
    "\n",
    "    # 读取测试集\n",
    "    for class_dir in range(10):  # 遍历10个类别文件夹\n",
    "        class_path = path.join(dataset_dir, 'Reduced Testing data', str(class_dir))  # 类别文件夹路径\n",
    "        for file_name in os.listdir(class_path):  # 遍历每个类别文件夹中的图像文件\n",
    "            file_path = path.join(class_path, file_name)  # 图像文件路径\n",
    "            img = cv2.imread(file_path, cv2.IMREAD_GRAYSCALE)  # 读取灰度图像\n",
    "            # 如果指定了目标尺寸，则缩放图像\n",
    "            if target_size is not None:\n",
    "                img = cv2.resize(img, target_size, interpolation=cv2.INTER_AREA)\n",
    "            test_data.append(img.flatten())  # 将图像展平并添加到测试数据列表中\n",
    "            test_labels.append(int(class_dir))  # 将类别标签添加到测试标签列表中\n",
    "\n",
    "    # 将列表转换为numpy数组并返回\n",
    "    train_images = np.array(train_data)\n",
    "    train_labels = np.array(train_labels).reshape(-1, 1)\n",
    "    test_images = np.array(test_data)\n",
    "    test_labels = np.array(test_labels).reshape(-1, 1)\n",
    "\n",
    "    return train_images, train_labels, test_images, test_labels, faceshape\n"
   ]
  },
  {
   "cell_type": "code",
<<<<<<< HEAD
   "execution_count": 77,
=======
   "execution_count": 18,
>>>>>>> df8d84953b332706745d1589d8f670dc6a61433b
   "metadata": {},
   "outputs": [
    {
     "data": {
      "text/plain": [
       "'\\nfrom sklearn.datasets import load_digits\\ndigits = load_digits()\\ndata = digits.data\\ntarget = digits.target\\nimages = digits.images\\nprint(\"data shape:\", data.shape)\\nprint(\"target shape:\", target.shape)\\nfaceshape = (8, 8)\\n# 输出16张images\\nfig, axes = plt.subplots(4, 4, sharex=True, sharey=True, figsize=(8, 10))\\nfor i in range(16):\\n    axes[i%4][i//4].imshow(images[i], cmap=\"gray\")\\nplt.show()\\n'"
      ]
     },
     "execution_count": 77,
     "metadata": {},
     "output_type": "execute_result"
    }
   ],
   "source": [
    "\"\"\"\n",
    "from sklearn.datasets import load_digits\n",
    "digits = load_digits()\n",
    "data = digits.data\n",
    "target = digits.target\n",
    "images = digits.images\n",
    "print(\"data shape:\", data.shape)\n",
    "print(\"target shape:\", target.shape)\n",
    "faceshape = (8, 8)\n",
    "# 输出16张images\n",
    "fig, axes = plt.subplots(4, 4, sharex=True, sharey=True, figsize=(8, 10))\n",
    "for i in range(16):\n",
    "    axes[i%4][i//4].imshow(images[i], cmap=\"gray\")\n",
    "plt.show()\n",
    "\"\"\""
   ]
  },
  {
   "cell_type": "code",
<<<<<<< HEAD
   "execution_count": 78,
=======
   "execution_count": 19,
>>>>>>> df8d84953b332706745d1589d8f670dc6a61433b
   "metadata": {},
   "outputs": [
    {
     "name": "stdout",
     "output_type": "stream",
     "text": [
      "train_data shape: (280, 1024)\n",
      "train_labels shape: (280, 1)\n",
      "test_data shape: (120, 1024)\n",
<<<<<<< HEAD
      "test_labels shape: (120, 1)\n",
      "Laplacian_matrix.shape (280, 280)\n",
      "objective_value.shape (1024, 1024)\n"
=======
      "test_labels shape: (120, 1)\n"
>>>>>>> df8d84953b332706745d1589d8f670dc6a61433b
     ]
    },
    {
     "name": "stderr",
     "output_type": "stream",
     "text": [
<<<<<<< HEAD
      "C:\\Users\\Tony-Huang\\AppData\\Local\\Temp\\ipykernel_4244\\2970308860.py:28: DeprecationWarning: Conversion of an array with ndim > 0 to a scalar is deprecated, and will error in future. Ensure you extract a single element from your array before performing this operation. (Deprecated NumPy 1.25.)\n",
=======
      "C:\\Users\\Tony\\AppData\\Local\\Temp\\ipykernel_8868\\1532361492.py:28: DeprecationWarning: Conversion of an array with ndim > 0 to a scalar is deprecated, and will error in future. Ensure you extract a single element from your array before performing this operation. (Deprecated NumPy 1.25.)\n",
>>>>>>> df8d84953b332706745d1589d8f670dc6a61433b
      "  indices = np.argsort(sorted_distances[i])[:int(adaptive_neighbors[i])]\n"
     ]
    },
    {
     "name": "stdout",
     "output_type": "stream",
     "text": [
<<<<<<< HEAD
      "lpp_eigenvectors shape: (1024, 30)\n",
      "lpp_weight_matrix shape: (30, 280)\n",
      "Average Recognition Rate: 0.9666666666666667\n"
     ]
    },
    {
     "data": {
      "image/png": "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",
      "text/plain": [
       "<Figure size 800x1000 with 16 Axes>"
      ]
     },
     "metadata": {},
     "output_type": "display_data"
    },
    {
     "name": "stdout",
     "output_type": "stream",
     "text": [
      "[0.9666666666666667]\n"
=======
      "Average Recognition Rate: 0.9833333333333333\n",
      "[0.9833333333333333]\n"
>>>>>>> df8d84953b332706745d1589d8f670dc6a61433b
     ]
    }
   ],
   "source": [
    "\"\"\"\n",
    "faces, classes, faceshape = read_images(\"ORL\")  # 读取图像数据和标签\n",
    "train_data, train_labels, test_data, test_labels = train_test_split(faces, classes, 0.7)  # 划分训练集和测试集\n",
    "d = 70\n",
    "threshold = 0.5\n",
    "t = 100000\n",
    "method = 'knn'\n",
    "train_data = train_data.T\n",
    "overall_mean = np.mean(train_data , axis=1).reshape(-1, 1)\n",
    "lpp_eigenfaces = LPP(train_data, d, method, threshold, t)\n",
    "lpp_weight_matrix = lpp_eigenfaces.T @ (train_data-overall_mean)\n",
    "\n",
    "# 单次识别率统计\n",
    "wrong_times = 0\n",
    "right_times = 0\n",
    "for i in range(test_data.shape[0]):\n",
    "    flag = test_image(i, train_labels, test_labels, test_data, lpp_eigenfaces, lpp_weight_matrix)\n",
    "    if flag:\n",
    "                right_times += 1\n",
    "    else:\n",
    "        wrong_times += 1\n",
    "rate = right_times / test_data.shape[0]\n",
    "print(f\"Recognition Rate: {rate}\")\n",
    "#ShowEigenface(lpp_eigenfaces, faceshape)\n",
    "\"\"\"\n",
    "\n",
    "# 求平均识别率\n",
    "times = 1\n",
    "rates = []\n",
    "for i in range(times):\n",
    "    d = 30\n",
    "    t = 100000\n",
    "    k = 5\n",
    "    #method = \"knn\"\n",
    "    method = \"adaptive_epsilon\"\n",
    "    faces, classes, faceshape = read_images(\"ORL\")  # 读取图像数据和标签\n",
    "    train_data, train_labels, test_data, test_labels = train_test_split(faces, classes, 0.7)  # 划分ORL训练集和测试集\n",
    "    #train_data, train_labels, test_data, test_labels = train_test_split(data, target, 0.2)\n",
    "    print(\"train_data shape:\", train_data.shape)\n",
    "    print(\"train_labels shape:\", train_labels.shape)\n",
    "    print(\"test_data shape:\", test_data.shape)\n",
    "    print(\"test_labels shape:\", test_labels.shape)\n",
    "    #train_data, train_labels, test_data, test_labels, faceshape  = read_mnist_dataset(\"MNIST_ORG\", fraction=0.01)\n",
    "    #train_data, train_labels, test_data, test_labels, faceshape  = read_mini_minst_images(\"Reduced MNIST Data\", target_size=None)\n",
    "    data = train_data.T\n",
    "    lpp_eigenvectors = LPP(data, d, method, k, t)\n",
    "    print(\"lpp_eigenvectors shape:\", lpp_eigenvectors.shape)\n",
    "    lpp_weight_matrix = lpp_eigenvectors.T @ data\n",
    "    print(\"lpp_weight_matrix shape:\", lpp_weight_matrix.shape)\n",
    "    wrong_times = 0\n",
    "    right_times = 0\n",
    "    for i in range(test_data.shape[0]):\n",
    "        flag = test_image(i, train_labels, test_labels, test_data, lpp_eigenvectors, lpp_weight_matrix)\n",
    "        if flag:\n",
    "                    right_times += 1\n",
    "        else:\n",
    "            wrong_times += 1\n",
    "    rate = right_times / test_data.shape[0]\n",
    "    rates.append(rate)\n",
    "print(f\"Average Recognition Rate: {np.mean(rates)}\")\n",
    "ShowEigenface(lpp_eigenvectors, faceshape)\n",
    "print(rates)"
   ]
<<<<<<< HEAD
=======
  },
  {
   "cell_type": "code",
   "execution_count": 20,
   "metadata": {},
   "outputs": [],
   "source": [
    "#ShowEigenface(lpp_eigenvectors, faceshape)"
   ]
>>>>>>> df8d84953b332706745d1589d8f670dc6a61433b
  }
 ],
 "metadata": {
  "kernelspec": {
   "display_name": "Python 3",
   "language": "python",
   "name": "python3"
  },
  "language_info": {
   "codemirror_mode": {
    "name": "ipython",
    "version": 3
   },
   "file_extension": ".py",
   "mimetype": "text/x-python",
   "name": "python",
   "nbconvert_exporter": "python",
   "pygments_lexer": "ipython3",
   "version": "3.11.8"
  }
 },
 "nbformat": 4,
 "nbformat_minor": 2
}
