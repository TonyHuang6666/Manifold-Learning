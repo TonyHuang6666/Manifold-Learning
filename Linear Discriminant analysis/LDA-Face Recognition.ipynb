{
 "cells": [
  {
   "cell_type": "code",
   "execution_count": 63,
   "metadata": {},
   "outputs": [],
   "source": [
    "import cv2\n",
    "import os\n",
    "import numpy as np\n",
    "import scipy\n",
    "import matplotlib.pyplot as plt"
   ]
  },
  {
   "cell_type": "code",
   "execution_count": 64,
   "metadata": {},
   "outputs": [],
   "source": [
    "# 计算每个类别的均值矩阵\n",
    "def compute_classes_mean_matrix(train_data, train_labels):\n",
    "    num_classes = len(np.unique(train_labels))  # 类别数量\n",
    "    num_samples_per_class = train_data.shape[0] // num_classes  # 每个类别的样本数\n",
    "    num_features = train_data.shape[1]  # 每个样本的特征维度\n",
    "    \n",
    "    means = np.zeros((num_classes, num_features))  # 存储每个类别的均值矩阵\n",
    "    \n",
    "    for i in range(1, num_classes + 1):  # 遍历每个类别\n",
    "        temp_indices = np.where(train_labels == i)[0]  # 获取当前类别的训练数据索引\n",
    "        temp_sum = np.sum(train_data[temp_indices], axis=0)  # 计算当前类别的特征值总和\n",
    "        means[i-1] = temp_sum / num_samples_per_class  # 计算当前类别的均值\n",
    "        \n",
    "    return means  # 返回每个类别的均值矩阵\n",
    "\n",
    "# 计算所有类别的整体均值矩阵\n",
    "def compute_overall_mean_matrix(classes_means):\n",
    "    overall_mean = np.mean(classes_means, axis=0)  # 计算所有类别的整体均值\n",
    "    return overall_mean.reshape(-1, 1)  # 返回整体均值矩阵（转置）\n",
    "\n",
    "# 计算中心类别矩阵\n",
    "def compute_center_class_matrix(train_data, train_labels, classes_means):\n",
    "    Z = np.zeros_like(train_data)  # 初始化中心类别矩阵\n",
    "    \n",
    "    for i in range(train_data.shape[0]):  # 遍历训练数据\n",
    "        class_index = int(train_labels[i]) - 1  # 获取当前样本所属类别的索引\n",
    "        Z[i] = train_data[i] - classes_means[class_index]  # 计算中心类别矩阵\n",
    "        \n",
    "    return Z  # 返回中心类别矩阵\n",
    "\n",
    "# 计算类间散布矩阵\n",
    "def compute_between_class_scatter_matrix(classes_means, overall_mean):\n",
    "    n = 5  # 训练集与测试集的比例\n",
    "    Sb = np.zeros((classes_means.shape[1], classes_means.shape[1]))  # 初始化类间散布矩阵\n",
    "    for i in range(classes_means.shape[0]):  # 遍历每个类别的均值矩阵\n",
    "        Sb = np.add(Sb, n * ((classes_means[i] - overall_mean) * (classes_means[i] - overall_mean).T))  # 计算类间散布矩阵\n",
    "    return Sb  # 返回类间散布矩阵\n",
    "\n",
    "# 计算类内散布矩阵\n",
    "def compute_class_scatter_matrix(Z):\n",
    "    Sw = np.dot(Z.T, Z)  # 计算类内散布矩阵\n",
    "    return Sw  # 返回类内散布矩阵"
   ]
  },
  {
   "cell_type": "code",
   "execution_count": 65,
   "metadata": {},
   "outputs": [],
   "source": [
    "def ShowEigenface(eigenfaces,faceshape):\n",
    "    # 显示前16个特征脸\n",
    "    fig, axes = plt.subplots(4, 4, sharex=True, sharey=True, figsize=(8, 10))\n",
    "    for i in range(16):\n",
    "        axes[i%4][i//4].imshow(eigenfaces[:, i].reshape(faceshape), cmap=\"gray\")\n",
    "    print(\"显示特征脸\")\n",
    "    plt.show()"
   ]
  },
  {
   "cell_type": "code",
   "execution_count": 66,
   "metadata": {},
   "outputs": [],
   "source": [
    "def read_images(dataset_dir, target_size=(32, 32)):\n",
    "    data = []  # 存储图像数据的列表\n",
    "    labels = []  # 存储标签的列表\n",
    "    faceshape = [] # 存储图像形状\n",
    "    for class_dir in os.listdir(dataset_dir):  # 遍历数据集文件夹中的文件夹（每个文件夹代表一个类别）\n",
    "        class_path = os.path.join(dataset_dir, class_dir)  # 类别文件夹路径\n",
    "        for file_name in os.listdir(class_path):  # 遍历每个类别文件夹中的图像文件\n",
    "            file_path = os.path.join(class_path, file_name)  # 图像文件路径\n",
    "            img = cv2.imread(file_path, cv2.IMREAD_GRAYSCALE)  # 读取灰度图像\n",
    "            # 缩放图像至目标尺寸\n",
    "            img = cv2.resize(img, target_size, interpolation=cv2.INTER_AREA)\n",
    "            # 读取第一张灰度图像的大小作为图片形状\n",
    "            faceshape = img.shape\n",
    "            data.append(img.flatten())  # 将图像展平并添加到数据列表中\n",
    "            labels.append(int(class_dir))  # 将类别标签添加到标签列表中\n",
    "    return np.array(data), np.array(labels).reshape(-1, 1), faceshape  # 返回图像数据和标签\n",
    "\n",
    "# 训练集和测试集划分\n",
    "def train_test_split(data, labels, train_test_split_ratio):\n",
    "    num_samples = data.shape[0]  # 总样本数\n",
    "    train_samples = int(num_samples * train_test_split_ratio)  # 训练集样本数\n",
    "\n",
    "    # 随机打乱数据集\n",
    "    indices = np.random.permutation(num_samples)\n",
    "    data = data[indices]\n",
    "    labels = labels[indices]\n",
    "    \n",
    "    # 划分训练集和测试集\n",
    "    train_data = data[:train_samples]\n",
    "    train_labels = labels[:train_samples]\n",
    "    test_data = data[train_samples:]\n",
    "    test_labels = labels[train_samples:]\n",
    "    \n",
    "    return train_data, train_labels, test_data, test_labels\n"
   ]
  },
  {
   "cell_type": "code",
   "execution_count": 67,
   "metadata": {},
   "outputs": [],
   "source": [
    "def MLDA(train_data, train_labels, faceshape, d):\n",
    "    \"\"\"\n",
    "    使用多元线性判别分析（MLDA）进行特征提取。\n",
    "\n",
    "    Args:\n",
    "    - train_data: 训练数据集的特征矩阵\n",
    "    - train_labels: 训练数据集的标签\n",
    "    - d: 要提取的特征数量\n",
    "\n",
    "    Returns:\n",
    "    - selected_eigenvectors: 特征映射后的数据集\n",
    "    - selected_eigenvalues: 特征值\n",
    "    \"\"\"\n",
    "    # 计算每个类别的均值矩阵\n",
    "    classes_means = compute_classes_mean_matrix(train_data, train_labels)\n",
    "    print('classes_means形状：', classes_means.shape)\n",
    "\n",
    "    # 计算所有类别的整体均值矩阵\n",
    "    overall_mean = compute_overall_mean_matrix(classes_means)\n",
    "    print('overall_mean形状：', overall_mean.shape)\n",
    "\n",
    "    # 计算中心类别矩阵\n",
    "    Z = compute_center_class_matrix(train_data, train_labels, classes_means)\n",
    "    print('Z形状：', Z.shape)\n",
    "\n",
    "    # 计算类间散布矩阵\n",
    "    Sb = compute_between_class_scatter_matrix(classes_means, overall_mean)\n",
    "    print('Sb形状：', Sb.shape)\n",
    "\n",
    "    # 计算类内散布矩阵\n",
    "    Sw = compute_class_scatter_matrix(Z)\n",
    "    print('Sw形状：', Sw.shape)\n",
    "\n",
    "    W_value = np.dot(Sw.T, Sb)  # 计算投影矩阵W\n",
    "    print(W_value.shape)  # 输出投影矩阵W的形状\n",
    "\n",
    "    # 计算广义特征值问题的特征值和特征向量，提取前d个最大特征值对应的特征向量\n",
    "    eigen_values, eigen_vectors = scipy.linalg.eigh(W_value, eigvals=((faceshape[0] * faceshape[1]-d),(faceshape[0] * faceshape[1]-1)))  # 计算特征值和特征向量\n",
    "    print('Done LDA selected eigenvectors computing')  # 输出提示信息\n",
    "    print('LDA特征脸形状：', eigen_vectors.shape)\n",
    "    ShowEigenface(eigen_vectors, faceshape)\n",
    "    return eigen_vectors"
   ]
  },
  {
   "cell_type": "code",
   "execution_count": 68,
   "metadata": {},
   "outputs": [
    {
     "name": "stdout",
     "output_type": "stream",
     "text": [
      "train_labels shape:  (898,)\n",
      "test_labels shape:  (899,)\n",
      "classes_means形状： (10, 64)\n",
      "overall_mean形状： (64, 1)\n",
      "Z形状： (898, 64)\n",
      "Sb形状： (64, 64)\n",
      "Sw形状： (64, 64)\n",
      "(64, 64)\n",
      "Done LDA selected eigenvectors computing\n",
      "LDA特征脸形状： (64, 50)\n",
      "显示特征脸\n"
     ]
    },
    {
     "name": "stderr",
     "output_type": "stream",
     "text": [
      "C:\\Users\\Tony-Huang\\AppData\\Local\\Temp\\ipykernel_31896\\2396599885.py:38: DeprecationWarning: Keyword argument 'eigvals' is deprecated in favour of 'subset_by_index' keyword instead and will be removed in SciPy 1.12.0.\n",
      "  eigen_values, eigen_vectors = scipy.linalg.eigh(W_value, eigvals=((faceshape[0] * faceshape[1]-d),(faceshape[0] * faceshape[1]-1)))  # 计算特征值和特征向量\n"
     ]
    },
    {
     "data": {
      "image/png": "[encoded data removed]",
      "text/plain": [
       "<Figure size 800x1000 with 16 Axes>"
      ]
     },
     "metadata": {},
     "output_type": "display_data"
    }
   ],
   "source": [
    "#data, labels, faceshape = read_images(\"attfaces\")  # 读取图像数据和标签\n",
    "\n",
    "from sklearn.datasets import load_digits\n",
    "digits = load_digits()\n",
    "data = digits.data\n",
    "labels = digits.target\n",
    "faceshape = (8, 8)\n",
    "\n",
    "train_data, train_labels, test_data, test_labels = train_test_split(data, labels, 0.5)  # 划分训练集和测试集\n",
    "print(\"train_labels shape: \", train_labels.shape)  # 输出训练集标签的形状\n",
    "print(\"test_labels shape: \", test_labels.shape)  # 输出测试集标签的形状\n",
    "\n",
    "d=50\n",
    "eigen_vectors = MLDA(train_data, train_labels, faceshape, d)\n"
   ]
  },
  {
   "cell_type": "code",
   "execution_count": 69,
   "metadata": {},
   "outputs": [],
   "source": [
    "# 测试要查询的图像\n",
    "def test_query_class_sample(W, query_image, j, train_data, train_labels, test_labels):\n",
    "    # 计算查询图像的线性判别函数值,即计算 d(Q) = W^T (Q - P)\n",
    "    d = np.dot(W.T, query_image)\n",
    "    # 计算 ||d||\n",
    "    discriminant_values = []\n",
    "    for i in range(train_data.shape[0]):\n",
    "        train_image = train_data[i]\n",
    "        train_d = np.dot(W.T, train_image)\n",
    "        discriminant_value = np.linalg.norm(d - train_d)\n",
    "        discriminant_values.append(discriminant_value)\n",
    "    # 找到匹配的样本图像索引\n",
    "    best_match_index = np.argmin(discriminant_values)\n",
    "    \n",
    "    #判断是否匹配正确\n",
    "    flag = True\n",
    "    if train_labels[best_match_index] == test_labels[j]:\n",
    "        flag = True\n",
    "    else:\n",
    "        flag = False\n",
    "    '''\n",
    "    # 可视化测试图像和最佳匹配图像\n",
    "    fig, axes = plt.subplots(1, 2, figsize=(8, 4))\n",
    "    axes[0].imshow(query_image.reshape(faceshape), cmap='gray')\n",
    "    axes[0].set_title('Query Image')\n",
    "    axes[0].axis('off')\n",
    "    axes[1].imshow(train_data[best_match_index].reshape(faceshape), cmap='gray')\n",
    "    axes[1].set_title(f'Best Match Image (||d|| = {discriminant_values[best_match_index]:.2f})')\n",
    "    axes[1].axis('off')\n",
    "    plt.show()\n",
    "    '''\n",
    "    # 返回匹配结果\n",
    "    return flag\n"
   ]
  },
  {
   "cell_type": "code",
   "execution_count": 70,
   "metadata": {},
   "outputs": [
    {
     "name": "stdout",
     "output_type": "stream",
     "text": [
      "Recognition Rate: 0.978865406006674\n"
     ]
    }
   ],
   "source": [
    "# 识别率统计\n",
    "wrong_times = 0\n",
    "right_times = 0\n",
    "for i in range(test_data.shape[0]):\n",
    "    flag = test_query_class_sample(eigen_vectors, test_data[i], i, train_data, train_labels, test_labels)\n",
    "    if flag:\n",
    "                right_times += 1         \n",
    "    else:\n",
    "        wrong_times += 1\n",
    "rate = right_times / test_data.shape[0]\n",
    "print(f\"Recognition Rate: {rate}\")\n"
   ]
  }
 ],
 "metadata": {
  "kernelspec": {
   "display_name": "Python 3",
   "language": "python",
   "name": "python3"
  },
  "language_info": {
   "codemirror_mode": {
    "name": "ipython",
    "version": 3
   },
   "file_extension": ".py",
   "mimetype": "text/x-python",
   "name": "python",
   "nbconvert_exporter": "python",
   "pygments_lexer": "ipython3",
   "version": "3.11.5"
  }
 },
 "nbformat": 4,
 "nbformat_minor": 2
}
