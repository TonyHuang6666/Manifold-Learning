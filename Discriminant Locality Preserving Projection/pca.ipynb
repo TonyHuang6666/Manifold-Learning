{
 "cells": [
  {
   "cell_type": "code",
   "execution_count": 39,
   "metadata": {},
   "outputs": [],
   "source": [
    "# 导入库函数\n",
    "import os\n",
    "import cv2\n",
    "import numpy as np\n",
    "import matplotlib.pyplot as plt\n",
    "from scipy.sparse.linalg import eigs\n",
    "\n",
    "# 读取数据集\n",
    "def read_images(dataset_dir, target_size=(32, 32)):\n",
    "    data = []  # 存储图像数据的列表\n",
    "    labels = []  # 存储标签的列表\n",
    "    faceshape = [] # 存储图像形状\n",
    "    for class_dir in os.listdir(dataset_dir):  # 遍历数据集文件夹中的文件夹（每个文件夹代表一个类别）\n",
    "        class_path = os.path.join(dataset_dir, class_dir)  # 类别文件夹路径\n",
    "        for file_name in os.listdir(class_path):  # 遍历每个类别文件夹中的图像文件\n",
    "            file_path = os.path.join(class_path, file_name)  # 图像文件路径\n",
    "            img = cv2.imread(file_path, cv2.IMREAD_GRAYSCALE)  # 读取灰度图像\n",
    "            # 缩放图像至目标尺寸\n",
    "            img = cv2.resize(img, target_size, interpolation=cv2.INTER_AREA)\n",
    "            # 读取第一张灰度图像的大小作为图片形状\n",
    "            faceshape = img.shape\n",
    "            data.append(img.flatten())  # 将图像展平并添加到数据列表中\n",
    "            labels.append(int(class_dir))  # 将类别标签添加到标签列表中\n",
    "    return np.array(data), np.array(labels).reshape(-1, 1), faceshape  # 返回图像数据和标签\n",
    "\n",
    "# 训练集和测试集划分\n",
    "def train_test_split(data, labels, train_test_split_ratio):\n",
    "    num_samples = data.shape[0]  # 总样本数\n",
    "    train_samples = int(num_samples * train_test_split_ratio)  # 训练集样本数\n",
    "    \n",
    "    # 洗牌算法打乱数据集\n",
    "    indices = np.arange(num_samples)\n",
    "    np.random.shuffle(indices)\n",
    "    data = data[indices]\n",
    "    labels = labels[indices]\n",
    "    \n",
    "    # 划分训练集和测试集\n",
    "    train_data = data[:train_samples]\n",
    "    train_labels = labels[:train_samples]\n",
    "    test_data = data[train_samples:]\n",
    "    test_labels = labels[train_samples:]\n",
    "    \n",
    "    return train_data, train_labels, test_data, test_labels\n",
    "\n",
    "def test_image(i, faceshape, overall_mean, train_labels, train_data, test_labels, query, dlpp_eigenfaces, dlpp_weight_matrix):\n",
    "    # 计算测试图像的权重向量\n",
    "    query_weight = (dlpp_eigenfaces.T @ (query - overall_mean.flatten()).reshape(-1, 1))\n",
    "    # 计算测试图像权重与数据集中每个人脸权重的欧氏距离\n",
    "    euclidean_distances = np.linalg.norm(dlpp_weight_matrix - query_weight, axis=0)\n",
    "    # 找到最佳匹配的人脸\n",
    "    best_match_index = np.argmin(euclidean_distances)\n",
    "    #判断是否匹配正确\n",
    "    flag = True\n",
    "    if train_labels[best_match_index] == test_labels[i]:\n",
    "        flag = True\n",
    "    else:\n",
    "        flag = False\n",
    "    \"\"\"\n",
    "    # 可视化\n",
    "    fig, axes = plt.subplots(1, 2, sharex=True, sharey=True, figsize=(8, 6))\n",
    "    axes[0].imshow(query.reshape(faceshape), cmap=\"gray\")\n",
    "    axes[0].set_title(\"Query Image\")\n",
    "    axes[1].set_xlabel(\"Euclidean Distance: {:.0f}\".format(euclidean_distances[best_match_index]))\n",
    "    axes[1].imshow(train_data[best_match_index].reshape(faceshape), cmap=\"gray\")\n",
    "    axes[1].set_title(\"Best Match\")\n",
    "    plt.show()\n",
    "    \"\"\"\n",
    "    return flag\n",
    "\n",
    "# PCA实现函数\n",
    "def pca(X, n_components):\n",
    "    # 计算数据矩阵的均值\n",
    "    mean = np.mean(X, axis=0)\n",
    "    # 中心化数据矩阵\n",
    "    X_centered = X - mean\n",
    "    # 计算数据矩阵的协方差矩阵\n",
    "    covariance_matrix = np.cov(X_centered, rowvar=False)\n",
    "    # 计算协方差矩阵的特征值和特征向量\n",
    "    eigenvalues, eigenvectors = np.linalg.eigh(covariance_matrix)\n",
    "    # 对特征向量按特征值从大到小排序\n",
    "    sorted_indices = np.argsort(eigenvalues)[::-1]\n",
    "    sorted_eigenvectors = eigenvectors[:, sorted_indices]\n",
    "    # 选取前n_components个特征向量\n",
    "    principal_components = sorted_eigenvectors[:, :n_components]\n",
    "    # 返回投影矩阵和均值向量\n",
    "    return principal_components, mean\n"
   ]
  },
  {
   "cell_type": "code",
   "execution_count": 40,
   "metadata": {},
   "outputs": [
    {
     "name": "stdout",
     "output_type": "stream",
     "text": [
      "类别数量： 400\n",
      "图像数据形状： (400, 1024)\n",
      "训练集形状： (200, 1024)\n",
      "特征脸形状: (1024, 50)\n",
      "均值脸形状: (1024,)\n",
      "权重矩阵形状: (50, 200)\n"
     ]
    }
   ],
   "source": [
    "dataset = \"ORL\"\n",
    "data, labels, faceshape = read_images(dataset)\n",
    "print(\"类别数量：\", len(labels))\n",
    "print(\"图像数据形状：\", data.shape)\n",
    "train_data, train_labels, test_data, test_labels = train_test_split(data, labels, train_test_split_ratio=0.5)\n",
    "print(\"训练集形状：\", train_data.shape)\n",
    "\n",
    "# 应用PCA并选择前K个主成分作为特征脸\n",
    "n_components = 50\n",
    "eigenfaces, mean_face = pca(train_data, n_components)\n",
    "print(\"特征脸形状:\", eigenfaces.shape)\n",
    "print(\"均值脸形状:\", mean_face.shape)\n",
    "\n",
    "# 生成权重矩阵，其中K为特征脸数量，N为样本数量\n",
    "weights = eigenfaces.T @ (train_data - mean_face).T\n",
    "print(\"权重矩阵形状:\", weights.shape)"
   ]
  },
  {
   "cell_type": "code",
   "execution_count": 41,
   "metadata": {},
   "outputs": [
    {
     "name": "stdout",
     "output_type": "stream",
     "text": [
      "Recognition Rate: 0.93\n"
     ]
    }
   ],
   "source": [
    "# 识别率统计\n",
    "wrong_times = 0\n",
    "right_times = 0\n",
    "for i in range(test_data.shape[0]):\n",
    "    flag = test_image(i, faceshape, mean_face, train_labels, train_data, test_labels, test_data[i], eigenfaces, weights)\n",
    "    if flag:\n",
    "                right_times += 1\n",
    "    else:\n",
    "        wrong_times += 1\n",
    "rate = right_times / (right_times + wrong_times)\n",
    "print(f\"Recognition Rate: {rate}\")"
   ]
  }
 ],
 "metadata": {
  "kernelspec": {
   "display_name": "Python 3",
   "language": "python",
   "name": "python3"
  },
  "language_info": {
   "codemirror_mode": {
    "name": "ipython",
    "version": 3
   },
   "file_extension": ".py",
   "mimetype": "text/x-python",
   "name": "python",
   "nbconvert_exporter": "python",
   "pygments_lexer": "ipython3",
   "version": "3.11.5"
  }
 },
 "nbformat": 4,
 "nbformat_minor": 2
}
