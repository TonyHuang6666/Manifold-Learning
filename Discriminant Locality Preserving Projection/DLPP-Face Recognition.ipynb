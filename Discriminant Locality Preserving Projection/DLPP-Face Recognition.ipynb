{
 "cells": [
  {
   "cell_type": "code",
   "execution_count": 3839,
   "metadata": {},
   "outputs": [],
   "source": [
    "# 导入库函数\n",
    "import os\n",
    "import cv2\n",
    "import numpy as np\n",
    "import matplotlib.pyplot as plt\n",
    "from scipy.sparse.linalg import eigs"
   ]
  },
  {
   "cell_type": "code",
   "execution_count": 3840,
   "metadata": {},
   "outputs": [],
   "source": [
    "# LPP算法函数\n",
    "\n",
    "def knn_graph(Data, method, k):\n",
    "    n = Data.shape[1]  # 修改此处获取样本点的数量\n",
    "    knn_adjacency_matrix = np.zeros((n, n))  \n",
    "    distances = np.sqrt(np.sum((Data.T[:, :, None] - Data.T[:, :, None].T) ** 2, axis=1)) # 修改计算欧式距离矩阵的方式\n",
    "    if method == 'epsilon':\n",
    "        return knn_adjacency_matrix, distances\n",
    "    indices = np.argsort(distances, axis=1)[:, 1:k+1]\n",
    "    for i in range(n):\n",
    "        knn_adjacency_matrix[i, indices[i]] = 1\n",
    "        knn_adjacency_matrix[indices[i], i] = 1\n",
    "    return knn_adjacency_matrix, distances\n",
    "\n",
    "def compute_avg_radius(n, distances): \n",
    "    radius = np.zeros(n)\n",
    "    for i in range(n):\n",
    "        avg_radius = np.mean(distances[:, i])  # 修改计算每个数据点的平均邻域半径的方式\n",
    "        radius[i] = avg_radius\n",
    "    return radius\n",
    "\n",
    "def compute_knn_average_radius(distances, k):\n",
    "    sorted_distances = np.sort(distances, axis=1)  # 对距离矩阵的每一行进行排序\n",
    "    avg_knn_distances = np.mean(sorted_distances[:, 1:k+1], axis=1)  # 计算每个数据点的前k个距离的平均值作为半径\n",
    "    return avg_knn_distances\n",
    "\n",
    "def compute_neighborhood_matrix(Data, method, k):\n",
    "    n = Data.shape[1]  # 修改获取样本点的数量的方式\n",
    "    knn_adjacency_matrix, distances = knn_graph(Data, method, k)\n",
    "    if method == 'knn':\n",
    "        return knn_adjacency_matrix, distances\n",
    "    adjacency_matrix = np.zeros((n, n))\n",
    "    radius = compute_knn_average_radius(distances, k)\n",
    "    for i in range(n):\n",
    "        neighbors = np.where(distances[:, i] <= radius[i])[0]  # 修改获取epsilon邻域内的样本索引的方式\n",
    "        adjacency_matrix[i, neighbors] = 1\n",
    "        adjacency_matrix[neighbors, i] = 1\n",
    "    return adjacency_matrix, distances\n",
    "\n",
    "def construct_weight_matrix(Data, method, k, t):\n",
    "    n = Data.shape[1]  # 修改获取样本点的数量的方式\n",
    "    Weight_matrix = np.zeros((n, n))\n",
    "    adjacency_matrix, distances = compute_neighborhood_matrix(Data, method, k)\n",
    "    similarity_matrix = np.exp(-distances ** 2 / t)\n",
    "    i_indices, j_indices = np.where(adjacency_matrix == 1)\n",
    "    Weight_matrix[i_indices, j_indices] = similarity_matrix[i_indices, j_indices]\n",
    "    Weight_matrix[j_indices, i_indices] = similarity_matrix[i_indices, j_indices]\n",
    "    Weight_matrix += np.exp(-distances ** 2 / t)\n",
    "    return Weight_matrix"
   ]
  },
  {
   "cell_type": "code",
   "execution_count": 3841,
   "metadata": {},
   "outputs": [],
   "source": [
    "def PCA(X, n_components):\n",
    "    # 计算数据矩阵的均值\n",
    "    mean = np.mean(X, axis=0)\n",
    "    # 中心化数据矩阵\n",
    "    X_centered = X - mean\n",
    "    # 计算数据矩阵的协方差矩阵\n",
    "    covariance_matrix = np.cov(X_centered, rowvar=False)\n",
    "    # 计算协方差矩阵的特征值和特征向量\n",
    "    eigenvalues, eigenvectors = np.linalg.eigh(covariance_matrix)\n",
    "    # 对特征向量按特征值从大到小排序\n",
    "    sorted_indices = np.argsort(eigenvalues)[::-1]\n",
    "    sorted_eigenvectors = eigenvectors[:, sorted_indices]\n",
    "    # 选取前n_components个特征向量\n",
    "    principal_components = sorted_eigenvectors[:, :n_components]\n",
    "    # 返回投影矩阵和均值向量\n",
    "    return principal_components"
   ]
  },
  {
   "cell_type": "code",
   "execution_count": 3842,
   "metadata": {},
   "outputs": [
    {
     "data": {
      "text/plain": [
       "'\\n# 计算所有类别的整体均值矩阵\\ndef compute_overall_mean_matrix(classes_means):\\n    overall_mean = np.mean(classes_means, axis=0)  # 计算所有类别的整体均值\\n    return overall_mean.reshape(-1, 1)  # 返回整体均值矩阵（转置）\\n\\n# 计算中心类别矩阵\\ndef compute_center_class_matrix(train_data, train_labels, classes_means):\\n    Z = np.zeros_like(train_data)  # 初始化中心类别矩阵\\n    \\n    for i in range(train_data.shape[0]):  # 遍历训练数据\\n        class_index = int(train_labels[i]) - 1  # 获取当前样本所属类别的索引\\n        Z[i] = train_data[i] - classes_means[class_index]  # 计算中心类别矩阵\\n        \\n    return Z  # 返回中心类别矩阵\\n\\n# 计算类间散布矩阵\\ndef compute_between_class_scatter_matrix(classes_means, overall_mean):\\n    n = 5  # 训练集与测试集的比例\\n    Sb = np.zeros((classes_means.shape[1], classes_means.shape[1]))  # 初始化类间散布矩阵\\n    for i in range(classes_means.shape[0]):  # 遍历每个类别的均值矩阵\\n        Sb = np.add(Sb, n * ((classes_means[i] - overall_mean) * (classes_means[i] - overall_mean).T))  # 计算类间散布矩阵\\n    return Sb  # 返回类间散布矩阵\\n\\n# 计算类内散布矩阵\\ndef compute_class_scatter_matrix(Z):\\n    Sw = np.dot(Z.T, Z)  # 计算类内散布矩阵\\n    return Sw  # 返回类内散布矩阵\\n'"
      ]
     },
     "execution_count": 3842,
     "metadata": {},
     "output_type": "execute_result"
    }
   ],
   "source": [
    "# MLDA算法函数\n",
    "\n",
    "# 计算每个类别的均值矩阵\n",
    "def compute_classes_mean_matrix(train_data, train_labels):\n",
    "    num_classes = len(np.unique(train_labels))  # 类别数量\n",
    "    print(\"类别数量：\", num_classes)\n",
    "    num_samples_per_class = train_data.shape[0] // num_classes  # 每个类别的样本数\n",
    "    print(\"每个类别的样本数：\", num_samples_per_class)\n",
    "    num_features = train_data.shape[1]  # 每个样本的特征维度\n",
    "    print(\"每个样本的特征维度：\", num_features)\n",
    "    means = np.zeros((num_classes, num_features))  # 存储每个类别的均值矩阵\n",
    "    for i in range(1, num_classes + 1):  # 遍历每个类别\n",
    "        temp_indices = np.where(train_labels == i)[0]  # 获取当前类别的训练数据索引\n",
    "        temp_sum = np.sum(train_data[temp_indices], axis=0)  # 计算当前类别的特征值总和\n",
    "        means[i-1] = temp_sum / num_samples_per_class  # 计算当前类别的均值\n",
    "    return means  # 返回每个类别的均值矩阵\n",
    "\"\"\"\n",
    "# 计算所有类别的整体均值矩阵\n",
    "def compute_overall_mean_matrix(classes_means):\n",
    "    overall_mean = np.mean(classes_means, axis=0)  # 计算所有类别的整体均值\n",
    "    return overall_mean.reshape(-1, 1)  # 返回整体均值矩阵（转置）\n",
    "\n",
    "# 计算中心类别矩阵\n",
    "def compute_center_class_matrix(train_data, train_labels, classes_means):\n",
    "    Z = np.zeros_like(train_data)  # 初始化中心类别矩阵\n",
    "    \n",
    "    for i in range(train_data.shape[0]):  # 遍历训练数据\n",
    "        class_index = int(train_labels[i]) - 1  # 获取当前样本所属类别的索引\n",
    "        Z[i] = train_data[i] - classes_means[class_index]  # 计算中心类别矩阵\n",
    "        \n",
    "    return Z  # 返回中心类别矩阵\n",
    "\n",
    "# 计算类间散布矩阵\n",
    "def compute_between_class_scatter_matrix(classes_means, overall_mean):\n",
    "    n = 5  # 训练集与测试集的比例\n",
    "    Sb = np.zeros((classes_means.shape[1], classes_means.shape[1]))  # 初始化类间散布矩阵\n",
    "    for i in range(classes_means.shape[0]):  # 遍历每个类别的均值矩阵\n",
    "        Sb = np.add(Sb, n * ((classes_means[i] - overall_mean) * (classes_means[i] - overall_mean).T))  # 计算类间散布矩阵\n",
    "    return Sb  # 返回类间散布矩阵\n",
    "\n",
    "# 计算类内散布矩阵\n",
    "def compute_class_scatter_matrix(Z):\n",
    "    Sw = np.dot(Z.T, Z)  # 计算类内散布矩阵\n",
    "    return Sw  # 返回类内散布矩阵\n",
    "\"\"\""
   ]
  },
  {
   "cell_type": "code",
   "execution_count": 3843,
   "metadata": {},
   "outputs": [],
   "source": [
    "def ShowEigenface(eigenfaces, faceshape):\n",
    "    # 显示前16个特征脸\n",
    "    fig, axes = plt.subplots(4, 4, sharex=True, sharey=True, figsize=(8, 10))\n",
    "    for i in range(16):\n",
    "        axes[i%4][i//4].imshow(eigenfaces[:, i].reshape(faceshape), cmap=\"gray\")\n",
    "    plt.show()"
   ]
  },
  {
   "cell_type": "code",
   "execution_count": 3844,
   "metadata": {},
   "outputs": [
    {
     "data": {
      "text/plain": [
       "'\\ndef LPP(train_data, train_labels, method, d, k, t):\\n    Data = train_data.T\\n    n = len(train_labels)\\n    Weight_matrices = np.zeros((n, n)) # 存储每个类别的权重矩阵\\n    Degree_matrices = np.zeros((n, n)) # 存储每个类别的度矩阵\\n    for class_label in np.unique(train_labels):\\n        class_indices = np.where(train_labels == class_label)[0]  # 获取当前类别的样本索引\\n        class_train_data = Data[:, class_indices]  # 获取当前类别的样本数据\\n        Weight_matrix = construct_weight_matrix(class_train_data, method, k, t)  # 计算当前类别的权重矩阵\\n        Degree_matrix = np.diag(np.sum(Weight_matrix, axis=1))  # 计算当前类别的度矩阵\\n        # 将Degree_matrix和Weight_matrix计算矩阵的迹并添加到对角线\\n        class_idx = class_label - 1\\n        Weight_matrices[class_idx, class_idx] = np.trace(Weight_matrix)\\n        Degree_matrices[class_idx, class_idx] = np.trace(Degree_matrix)\\n    Laplacian_matrices = Degree_matrices - Weight_matrices\\n    return Laplacian_matrices, Data\\n'"
      ]
     },
     "execution_count": 3844,
     "metadata": {},
     "output_type": "execute_result"
    }
   ],
   "source": [
    "\"\"\"\n",
    "def LPP(train_data, train_labels, method, d, k, t):\n",
    "    Data = train_data.T\n",
    "    n = len(train_labels)\n",
    "    Weight_matrices = np.zeros((n, n)) # 存储每个类别的权重矩阵\n",
    "    Degree_matrices = np.zeros((n, n)) # 存储每个类别的度矩阵\n",
    "    for class_label in np.unique(train_labels):\n",
    "        class_indices = np.where(train_labels == class_label)[0]  # 获取当前类别的样本索引\n",
    "        class_train_data = Data[:, class_indices]  # 获取当前类别的样本数据\n",
    "        Weight_matrix = construct_weight_matrix(class_train_data, method, k, t)  # 计算当前类别的权重矩阵\n",
    "        Degree_matrix = np.diag(np.sum(Weight_matrix, axis=1))  # 计算当前类别的度矩阵\n",
    "        # 将Degree_matrix和Weight_matrix计算矩阵的迹并添加到对角线\n",
    "        class_idx = class_label - 1\n",
    "        Weight_matrices[class_idx, class_idx] = np.trace(Weight_matrix)\n",
    "        Degree_matrices[class_idx, class_idx] = np.trace(Degree_matrix)\n",
    "    Laplacian_matrices = Degree_matrices - Weight_matrices\n",
    "    return Laplacian_matrices, Data\n",
    "\"\"\""
   ]
  },
  {
   "cell_type": "code",
   "execution_count": 3845,
   "metadata": {},
   "outputs": [],
   "source": [
    "def DLPP_LPP(Data, d, method, k, t):\n",
    "    Data = Data.T\n",
    "    Weight_matrix = construct_weight_matrix(Data, method, k, t)\n",
    "    Degree_matrix = np.diag(np.sum(Weight_matrix, axis=1))\n",
    "    Laplacian_matrix = Degree_matrix - Weight_matrix\n",
    "    return Laplacian_matrix, Data\n"
   ]
  },
  {
   "cell_type": "code",
   "execution_count": 3846,
   "metadata": {},
   "outputs": [],
   "source": [
    "def LPP(Data, d, method, k, t):\n",
    "    Data = Data.T\n",
    "    Weight_matrix = construct_weight_matrix(Data, method, k, t)\n",
    "    Degree_matrix = np.diag(np.sum(Weight_matrix, axis=1))\n",
    "    Laplacian_matrix = Degree_matrix - Weight_matrix\n",
    "    print(\"LPP拉普拉斯矩阵形状：\", Laplacian_matrix.shape)\n",
    "    objective_value = np.dot(np.dot(Data, Laplacian_matrix), Data.T)  # 计算目标函数\n",
    "    eigenvalues, eigenvectors = eigs(objective_value, k=d+1)\n",
    "    sorted_indices = np.argsort(eigenvalues.real)\n",
    "    selected_indices = sorted_indices[1:d + 1]\n",
    "    selected_eigenvectors = eigenvectors.real[:, selected_indices]\n",
    "    return selected_eigenvectors"
   ]
  },
  {
   "cell_type": "code",
   "execution_count": 3847,
   "metadata": {},
   "outputs": [],
   "source": [
    "def MLDA(train_data, train_labels, d):\n",
    "    # 计算每个类别的均值矩阵\n",
    "    classes_means = compute_classes_mean_matrix(train_data, train_labels)\n",
    "    \"\"\"\n",
    "    print('classes_means形状：', classes_means.shape)\n",
    "\n",
    "    # 计算所有类别的整体均值矩阵\n",
    "    overall_mean = compute_overall_mean_matrix(classes_means)\n",
    "    print('overall_mean形状：', overall_mean.shape)\n",
    "\n",
    "    # 计算中心类别矩阵\n",
    "    Z = compute_center_class_matrix(train_data, train_labels, classes_means)\n",
    "    print('Z形状：', Z.shape)\n",
    "\n",
    "    # 计算类间散布矩阵\n",
    "    Sb = compute_between_class_scatter_matrix(classes_means, overall_mean)\n",
    "    print('Sb形状：', Sb.shape)\n",
    "\n",
    "    # 计算类内散布矩阵\n",
    "    Sw = compute_class_scatter_matrix(Z)\n",
    "    print('Sw形状：', Sw.shape)\n",
    "    \"\"\"\n",
    "    return classes_means.T"
   ]
  },
  {
   "cell_type": "code",
   "execution_count": 3848,
   "metadata": {},
   "outputs": [],
   "source": [
    "def DLPP(train_data, train_labels, p, d, method, k, t):\n",
    "    # Step 1: 使用MLDA进行特征提取\n",
    "    F = MLDA(train_data, train_labels, d)\n",
    "    print(\"F形状:\", F.shape)\n",
    "    # Step 2: 使用LPP进行特征提取\n",
    "    L, X = DLPP_LPP(train_data, d, method, k, t)\n",
    "    print(\"拉普拉斯矩阵形状L:\", L.shape)\n",
    "    # Step 3: 计算权重矩阵B\n",
    "    num_classes = len(np.unique(train_labels))  # 计算训练集中的类别数\n",
    "    B = np.zeros((num_classes, num_classes))  # 初始化权重矩阵B\n",
    "    # 遍历每对类别，计算其对应的权重\n",
    "    for i in range(num_classes):  # 遍历每个类别\n",
    "        for j in range(num_classes):  # 再次遍历每个类别\n",
    "            if i != j:  # 如果类别不相同\n",
    "                fi = F[i]  # 获取第i个类别的平均脸\n",
    "                fj = F[j]  # 获取第j个类别的平均脸\n",
    "                # 计算第i类别和第j类别平均脸之间的欧氏距离，并将其应用于高斯核函数，计算权重\n",
    "                B[i, j] = np.exp(-np.linalg.norm(fi - fj) ** 2 / t)\n",
    "    # Step 4: 计算E和H矩阵\n",
    "    E = np.diag(np.sum(B, axis=1))\n",
    "    H = E - B\n",
    "    print(\"H形状:\", H.shape)\n",
    "    # Step 5: 计算目标函数的分母和分子\n",
    "    denominator = np.dot(np.dot(F, H), F.T) + 1e-10  # 添加一个微小的非零值，以避免除以零\n",
    "    #print(\"分母形状:\", denominator.shape)\n",
    "    numerator = np.dot(np.dot(X, L), X.T)\n",
    "    #print(\"分子形状:\", numerator.shape)\n",
    "    # Step 6: 分式\n",
    "    objective_value = numerator / denominator\n",
    "    # Step 7: 求解广义特征值问题的特征值和特征向量\n",
    "    eigenvalues, eigenvectors = eigs(objective_value, k=d+1)\n",
    "    sorted_indices = np.argsort(eigenvalues.real)\n",
    "    selected_indices = sorted_indices[1:d + 1]  \n",
    "    selected_eigenvectors = eigenvectors.real[:, selected_indices]\n",
    "    return selected_eigenvectors"
   ]
  },
  {
   "cell_type": "code",
   "execution_count": 3849,
   "metadata": {},
   "outputs": [],
   "source": [
    "# 读取数据集\n",
    "def read_images(dataset_dir, target_size=(32, 32)):\n",
    "    data = []  # 存储图像数据的列表\n",
    "    labels = []  # 存储标签的列表\n",
    "    faceshape = [] # 存储图像形状\n",
    "    for class_dir in os.listdir(dataset_dir):  # 遍历数据集文件夹中的文件夹（每个文件夹代表一个类别）\n",
    "        class_path = os.path.join(dataset_dir, class_dir)  # 类别文件夹路径\n",
    "        for file_name in os.listdir(class_path):  # 遍历每个类别文件夹中的图像文件\n",
    "            file_path = os.path.join(class_path, file_name)  # 图像文件路径\n",
    "            img = cv2.imread(file_path, cv2.IMREAD_GRAYSCALE)  # 读取灰度图像\n",
    "            # 缩放图像至目标尺寸\n",
    "            img = cv2.resize(img, target_size, interpolation=cv2.INTER_AREA)\n",
    "            # 读取第一张灰度图像的大小作为图片形状\n",
    "            faceshape = img.shape\n",
    "            data.append(img.flatten())  # 将图像展平并添加到数据列表中\n",
    "            labels.append(int(class_dir))  # 将类别标签添加到标签列表中\n",
    "    return np.array(data), np.array(labels).reshape(-1, 1), faceshape  # 返回图像数据和标签\n",
    "\n",
    "# 训练集和测试集划分(按顺序划分)\n",
    "def train_test_split(data, labels, train_test_split_ratio):\n",
    "    num_samples = data.shape[0]  # 总样本数\n",
    "    num_classes = len(np.unique(labels))  # 类别数\n",
    "    train_samples_per_class = int(train_test_split_ratio * num_samples / num_classes)  # 每个类别的训练样本数\n",
    "    \n",
    "    train_indices = []\n",
    "    test_indices = []\n",
    "    for i in range(1, num_classes + 1):  # 对每个类别\n",
    "        class_indices = np.where(labels == i)[0]  # 获取当前类别的索引\n",
    "        train_indices.extend(class_indices[:train_samples_per_class])  # 将前面部分作为训练集\n",
    "        test_indices.extend(class_indices[train_samples_per_class:])  # 将后面部分作为测试集\n",
    "    \n",
    "    train_data = data[train_indices]\n",
    "    train_labels = labels[train_indices]\n",
    "    test_data = data[test_indices]\n",
    "    test_labels = labels[test_indices]\n",
    "    \n",
    "    return train_data, train_labels, test_data, test_labels"
   ]
  },
  {
   "cell_type": "code",
   "execution_count": 3850,
   "metadata": {},
   "outputs": [
    {
     "data": {
      "text/plain": [
       "'\\nfrom sklearn.datasets import make_swiss_roll\\n\\n# 设置参数\\nn_samples = 1000  # 数据点数量\\nnoise = 0.2  # 噪声水平\\nrandom_state = 42  # 随机种子，用于重现结果\\n\\n# 生成带有标签信息的瑞士卷数据集\\nX, labels = make_swiss_roll(n_samples=n_samples, noise=noise, random_state=random_state)\\nX = X.T\\nlabels = np.array(labels).reshape(-1, 1)\\nprint(\"X形状:\", X.shape)\\nprint(\"labels形状:\", labels.shape)\\nreduced_data = DLPP(X, labels, 2, \\'knn\\', 10, 1000)\\n\\n\\n# 打印数据集的形状\\nprint(\"数据集形状:\", X.shape)\\nprint(\"标签形状:\", y.shape)\\n\\n# 可视化瑞士卷数据集\\nimport matplotlib.pyplot as plt\\nfrom mpl_toolkits.mplot3d import Axes3D\\n\\nfig = plt.figure()\\nax = fig.add_subplot(111, projection=\\'3d\\')\\nax.scatter(X[:, 0], X[:, 1], X[:, 2], c=y, cmap=plt.cm.Spectral)\\nax.set_title(\\'带有标签信息的瑞士卷数据集\\')\\nplt.show()\\n\\n\\nplt.figure(figsize=(8, 6))\\nplt.scatter(reduced_data[:, 0], reduced_data[:, 1], c=labels, cmap=\\'viridis\\')\\nplt.title(\\'DLPP降维后的结果（二维）\\')\\nplt.xlabel(\\'特征1\\')\\nplt.ylabel(\\'特征2\\')\\nplt.colorbar(label=\\'类别\\')\\nplt.show()\\n'"
      ]
     },
     "execution_count": 3850,
     "metadata": {},
     "output_type": "execute_result"
    }
   ],
   "source": [
    "\"\"\"\n",
    "from sklearn.datasets import make_swiss_roll\n",
    "\n",
    "# 设置参数\n",
    "n_samples = 1000  # 数据点数量\n",
    "noise = 0.2  # 噪声水平\n",
    "random_state = 42  # 随机种子，用于重现结果\n",
    "\n",
    "# 生成带有标签信息的瑞士卷数据集\n",
    "X, labels = make_swiss_roll(n_samples=n_samples, noise=noise, random_state=random_state)\n",
    "X = X.T\n",
    "labels = np.array(labels).reshape(-1, 1)\n",
    "print(\"X形状:\", X.shape)\n",
    "print(\"labels形状:\", labels.shape)\n",
    "reduced_data = DLPP(X, labels, 2, 'knn', 10, 1000)\n",
    "\n",
    "\n",
    "# 打印数据集的形状\n",
    "print(\"数据集形状:\", X.shape)\n",
    "print(\"标签形状:\", y.shape)\n",
    "\n",
    "# 可视化瑞士卷数据集\n",
    "import matplotlib.pyplot as plt\n",
    "from mpl_toolkits.mplot3d import Axes3D\n",
    "\n",
    "fig = plt.figure()\n",
    "ax = fig.add_subplot(111, projection='3d')\n",
    "ax.scatter(X[:, 0], X[:, 1], X[:, 2], c=y, cmap=plt.cm.Spectral)\n",
    "ax.set_title('带有标签信息的瑞士卷数据集')\n",
    "plt.show()\n",
    "\n",
    "\n",
    "plt.figure(figsize=(8, 6))\n",
    "plt.scatter(reduced_data[:, 0], reduced_data[:, 1], c=labels, cmap='viridis')\n",
    "plt.title('DLPP降维后的结果（二维）')\n",
    "plt.xlabel('特征1')\n",
    "plt.ylabel('特征2')\n",
    "plt.colorbar(label='类别')\n",
    "plt.show()\n",
    "\"\"\""
   ]
  },
  {
   "cell_type": "code",
   "execution_count": 3851,
   "metadata": {},
   "outputs": [],
   "source": [
    "def test_image(i, train_labels, test_labels, query, dlpp_weight_matrix):\n",
    "    # 计算测试图像的权重向量\n",
    "    #print(\"query形状:\", query.shape)\n",
    "    #print(\"dlpp_eigenfaces形状:\", dlpp_eigenfaces.shape)\n",
    "    #print(\"dlpp_weight_matrix形状:\", dlpp_weight_matrix.shape)\n",
    "    query = query.reshape(-1, 1)\n",
    "    # 计算测试图像权重与数据集中每个人脸权重的欧氏距离\n",
    "    euclidean_distances = np.linalg.norm(dlpp_weight_matrix - query, axis=0)\n",
    "    # 找到最佳匹配的人脸\n",
    "    best_match_index = np.argmin(euclidean_distances)\n",
    "    #判断是否匹配正确\n",
    "    flag = True\n",
    "    if train_labels[best_match_index] == test_labels[i]:\n",
    "        flag = True\n",
    "    else:\n",
    "        flag = False\n",
    "    return flag"
   ]
  },
  {
   "cell_type": "code",
   "execution_count": 3852,
   "metadata": {},
   "outputs": [
    {
     "name": "stdout",
     "output_type": "stream",
     "text": [
      "训练集X形状： (200, 1024)\n",
      "训练集标签形状： (200, 1)\n"
     ]
    },
    {
     "name": "stdout",
     "output_type": "stream",
     "text": [
      "PCA特张脸/PCA主成分/PCA变换矩阵A形状: (1024, 70)\n",
      "PCA子空间/PCA权重矩阵Y形状: (70, 200)\n",
      "PCA提取训练数据特征的主成分形状: (200, 70)\n"
     ]
    }
   ],
   "source": [
    "#from sklearn.datasets import load_digits\n",
    "#digits = load_digits()\n",
    "#data = digits.data\n",
    "#labels = digits.target\n",
    "#images = digits.images\n",
    "\n",
    "dataset = \"ORL\"\n",
    "data, labels, faceshape = read_images(dataset)\n",
    "train_data, train_labels, test_data, test_labels = train_test_split(data, labels, train_test_split_ratio=0.5)\n",
    "print(\"训练集X形状：\", train_data.shape)\n",
    "print(\"训练集标签形状：\", train_labels.shape)\n",
    "p = 70\n",
    "d = 40\n",
    "k = 5\n",
    "t = 87250\n",
    "lpp_method = 'knn'  # 'knn'或'epsilon'\n",
    "\n",
    "\n",
    "PCA_eigenfaces = PCA(train_data, p)\n",
    "PCA_weight_matrix = PCA_eigenfaces.T @ train_data.T\n",
    "print(\"PCA特张脸/PCA主成分/PCA变换矩阵A形状:\", PCA_eigenfaces.shape)\n",
    "print(\"PCA子空间/PCA权重矩阵Y形状:\", PCA_weight_matrix.shape)\n",
    "#ShowEigenface(PCA_eigenfaces, faceshape)\n",
    "train_data_by_pca = PCA(train_data.T, p)\n",
    "print(\"PCA提取训练数据特征的主成分形状:\", train_data_by_pca.shape)\n"
   ]
  },
  {
   "cell_type": "code",
   "execution_count": 3853,
   "metadata": {},
   "outputs": [
    {
     "name": "stdout",
     "output_type": "stream",
     "text": [
      "类别数量： 40\n",
      "每个类别的样本数： 5\n",
      "每个样本的特征维度： 70\n",
      "F形状: (70, 40)\n",
      "拉普拉斯矩阵形状L: (200, 200)\n",
      "H形状: (40, 40)\n",
      "DLPP变换矩阵A形状: (70, 40)\n",
      "DLPP子空间/权重矩阵Y形状: (40, 200)\n",
      "PCA提取测试数据特征的主成分形状: (200, 70)\n",
      "DLPP子空间的测试集形状: (40, 200)\n",
      "识别率： 0.0\n"
     ]
    }
   ],
   "source": [
    "dlpp_eigenvectors = DLPP(train_data_by_pca, train_labels, p, d, lpp_method, k, t)\n",
    "print(\"DLPP变换矩阵A形状:\", dlpp_eigenvectors.shape)\n",
    "dlpp_weight_matrix = dlpp_eigenvectors.T @ train_data_by_pca.T\n",
    "print(\"DLPP子空间/权重矩阵Y形状:\", dlpp_weight_matrix.shape)\n",
    "#ShowEigenface(dlpp_eigenvectors, faceshape)\n",
    "\n",
    "test_data_by_pca = PCA(test_data.T, p)\n",
    "print(\"PCA提取测试数据特征的主成分形状:\", test_data_by_pca.shape)\n",
    "\n",
    "dlpp_test_data = dlpp_eigenvectors.T @ test_data_by_pca.T\n",
    "print(\"DLPP子空间的测试集形状:\", dlpp_test_data.shape)\n",
    "\n",
    "# 识别率统计\n",
    "wrong_times = 0\n",
    "right_times = 0\n",
    "for i in range(test_data.shape[0]):\n",
    "    flag = test_image(i, train_labels, test_labels, dlpp_test_data[:,i], dlpp_weight_matrix)\n",
    "    if flag:\n",
    "                right_times += 1\n",
    "    else:\n",
    "        wrong_times += 1\n",
    "rate = right_times / test_data.shape[0]\n",
    "print(\"识别率：\", rate)"
   ]
  },
  {
   "cell_type": "code",
   "execution_count": 3854,
   "metadata": {},
   "outputs": [
    {
     "name": "stdout",
     "output_type": "stream",
     "text": [
      "LPP拉普拉斯矩阵形状： (200, 200)\n",
      "LPP变换矩阵A形状: (70, 40)\n",
      "LPP子空间/权重矩阵Y形状: (40, 200)\n",
      "识别率： 0.855\n"
     ]
    }
   ],
   "source": [
    "lpp_eigenvectors = LPP(train_data_by_pca, d, lpp_method, k, t)\n",
    "lpp_weight_matrix = lpp_eigenvectors.T @ PCA_weight_matrix\n",
    "print(\"LPP变换矩阵A形状:\", lpp_eigenvectors.shape)\n",
    "print(\"LPP子空间/权重矩阵Y形状:\", lpp_weight_matrix.shape)\n",
    "lpp_test_data = test_data @ PCA_eigenfaces @ lpp_eigenvectors\n",
    "# 识别率统计\n",
    "wrong_times = 0\n",
    "right_times = 0\n",
    "for i in range(test_data.shape[0]):\n",
    "    flag = test_image(i, train_labels, test_labels, lpp_test_data[i], lpp_weight_matrix)\n",
    "    if flag:\n",
    "                right_times += 1\n",
    "    else:\n",
    "        wrong_times += 1\n",
    "rate = right_times / test_data.shape[0]\n",
    "print(\"识别率：\", rate)"
   ]
  },
  {
   "cell_type": "code",
   "execution_count": 3855,
   "metadata": {},
   "outputs": [
    {
     "name": "stdout",
     "output_type": "stream",
     "text": [
      "识别率： 0.93\n"
     ]
    }
   ],
   "source": [
    "pca_test_data = test_data @ PCA_eigenfaces\n",
    "# 识别率统计\n",
    "wrong_times = 0\n",
    "right_times = 0\n",
    "for i in range(test_data.shape[0]):\n",
    "    flag = test_image(i, train_labels, test_labels, pca_test_data[i], PCA_weight_matrix)\n",
    "    if flag:\n",
    "                right_times += 1\n",
    "    else:\n",
    "        wrong_times += 1\n",
    "rate = right_times / test_data.shape[0]\n",
    "print(\"识别率：\", rate)"
   ]
  }
 ],
 "metadata": {
  "kernelspec": {
   "display_name": "Python 3",
   "language": "python",
   "name": "python3"
  },
  "language_info": {
   "codemirror_mode": {
    "name": "ipython",
    "version": 3
   },
   "file_extension": ".py",
   "mimetype": "text/x-python",
   "name": "python",
   "nbconvert_exporter": "python",
   "pygments_lexer": "ipython3",
   "version": "3.11.8"
  }
 },
 "nbformat": 4,
 "nbformat_minor": 2
}
